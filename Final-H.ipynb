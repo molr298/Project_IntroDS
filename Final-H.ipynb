{
 "cells": [
  {
   "cell_type": "markdown",
   "metadata": {},
   "source": [
    "## ĐỒ ÁN CUỐI KÌ\n",
    "****"
   ]
  },
  {
   "cell_type": "markdown",
   "metadata": {},
   "source": [
    "### Thành viên\n",
    "- 19127642&nbsp;&nbsp;&nbsp;&nbsp;&nbsp;&nbsp;&nbsp;Võ Nhất Huy\n",
    "- 19127592&nbsp;&nbsp;&nbsp;&nbsp;&nbsp;&nbsp;&nbsp;Lê Minh Trí\n",
    "### Dataset\n",
    "- HR Analytics: Job Change of Data Scientists\n",
    "- Link: https://www.kaggle.com/arashnic/hr-analytics-job-change-of-data-scientists\n",
    "***"
   ]
  },
  {
   "cell_type": "markdown",
   "metadata": {},
   "source": [
    "### Các thư viện cần thiết"
   ]
  },
  {
   "cell_type": "code",
   "execution_count": 127,
   "metadata": {},
   "outputs": [],
   "source": [
    "import pandas as pd\n",
    "import numpy as np"
   ]
  },
  {
   "cell_type": "markdown",
   "metadata": {},
   "source": [
    "### Đọc file và khám phá dữ liệu"
   ]
  },
  {
   "cell_type": "code",
   "execution_count": 128,
   "metadata": {},
   "outputs": [],
   "source": [
    "aug_df = pd.read_csv('aug_train.csv')"
   ]
  },
  {
   "cell_type": "code",
   "execution_count": 129,
   "metadata": {},
   "outputs": [
    {
     "data": {
      "text/html": [
       "<div>\n",
       "<style scoped>\n",
       "    .dataframe tbody tr th:only-of-type {\n",
       "        vertical-align: middle;\n",
       "    }\n",
       "\n",
       "    .dataframe tbody tr th {\n",
       "        vertical-align: top;\n",
       "    }\n",
       "\n",
       "    .dataframe thead th {\n",
       "        text-align: right;\n",
       "    }\n",
       "</style>\n",
       "<table border=\"1\" class=\"dataframe\">\n",
       "  <thead>\n",
       "    <tr style=\"text-align: right;\">\n",
       "      <th></th>\n",
       "      <th>enrollee_id</th>\n",
       "      <th>city</th>\n",
       "      <th>city_development_index</th>\n",
       "      <th>gender</th>\n",
       "      <th>relevent_experience</th>\n",
       "      <th>enrolled_university</th>\n",
       "      <th>education_level</th>\n",
       "      <th>major_discipline</th>\n",
       "      <th>experience</th>\n",
       "      <th>company_size</th>\n",
       "      <th>company_type</th>\n",
       "      <th>last_new_job</th>\n",
       "      <th>training_hours</th>\n",
       "      <th>target</th>\n",
       "    </tr>\n",
       "  </thead>\n",
       "  <tbody>\n",
       "    <tr>\n",
       "      <th>0</th>\n",
       "      <td>8949</td>\n",
       "      <td>city_103</td>\n",
       "      <td>0.920</td>\n",
       "      <td>Male</td>\n",
       "      <td>Has relevent experience</td>\n",
       "      <td>no_enrollment</td>\n",
       "      <td>Graduate</td>\n",
       "      <td>STEM</td>\n",
       "      <td>&gt;20</td>\n",
       "      <td>NaN</td>\n",
       "      <td>NaN</td>\n",
       "      <td>1</td>\n",
       "      <td>36</td>\n",
       "      <td>1.0</td>\n",
       "    </tr>\n",
       "    <tr>\n",
       "      <th>1</th>\n",
       "      <td>29725</td>\n",
       "      <td>city_40</td>\n",
       "      <td>0.776</td>\n",
       "      <td>Male</td>\n",
       "      <td>No relevent experience</td>\n",
       "      <td>no_enrollment</td>\n",
       "      <td>Graduate</td>\n",
       "      <td>STEM</td>\n",
       "      <td>15</td>\n",
       "      <td>50-99</td>\n",
       "      <td>Pvt Ltd</td>\n",
       "      <td>&gt;4</td>\n",
       "      <td>47</td>\n",
       "      <td>0.0</td>\n",
       "    </tr>\n",
       "    <tr>\n",
       "      <th>2</th>\n",
       "      <td>11561</td>\n",
       "      <td>city_21</td>\n",
       "      <td>0.624</td>\n",
       "      <td>NaN</td>\n",
       "      <td>No relevent experience</td>\n",
       "      <td>Full time course</td>\n",
       "      <td>Graduate</td>\n",
       "      <td>STEM</td>\n",
       "      <td>5</td>\n",
       "      <td>NaN</td>\n",
       "      <td>NaN</td>\n",
       "      <td>never</td>\n",
       "      <td>83</td>\n",
       "      <td>0.0</td>\n",
       "    </tr>\n",
       "    <tr>\n",
       "      <th>3</th>\n",
       "      <td>33241</td>\n",
       "      <td>city_115</td>\n",
       "      <td>0.789</td>\n",
       "      <td>NaN</td>\n",
       "      <td>No relevent experience</td>\n",
       "      <td>NaN</td>\n",
       "      <td>Graduate</td>\n",
       "      <td>Business Degree</td>\n",
       "      <td>&lt;1</td>\n",
       "      <td>NaN</td>\n",
       "      <td>Pvt Ltd</td>\n",
       "      <td>never</td>\n",
       "      <td>52</td>\n",
       "      <td>1.0</td>\n",
       "    </tr>\n",
       "    <tr>\n",
       "      <th>4</th>\n",
       "      <td>666</td>\n",
       "      <td>city_162</td>\n",
       "      <td>0.767</td>\n",
       "      <td>Male</td>\n",
       "      <td>Has relevent experience</td>\n",
       "      <td>no_enrollment</td>\n",
       "      <td>Masters</td>\n",
       "      <td>STEM</td>\n",
       "      <td>&gt;20</td>\n",
       "      <td>50-99</td>\n",
       "      <td>Funded Startup</td>\n",
       "      <td>4</td>\n",
       "      <td>8</td>\n",
       "      <td>0.0</td>\n",
       "    </tr>\n",
       "    <tr>\n",
       "      <th>...</th>\n",
       "      <td>...</td>\n",
       "      <td>...</td>\n",
       "      <td>...</td>\n",
       "      <td>...</td>\n",
       "      <td>...</td>\n",
       "      <td>...</td>\n",
       "      <td>...</td>\n",
       "      <td>...</td>\n",
       "      <td>...</td>\n",
       "      <td>...</td>\n",
       "      <td>...</td>\n",
       "      <td>...</td>\n",
       "      <td>...</td>\n",
       "      <td>...</td>\n",
       "    </tr>\n",
       "    <tr>\n",
       "      <th>19153</th>\n",
       "      <td>7386</td>\n",
       "      <td>city_173</td>\n",
       "      <td>0.878</td>\n",
       "      <td>Male</td>\n",
       "      <td>No relevent experience</td>\n",
       "      <td>no_enrollment</td>\n",
       "      <td>Graduate</td>\n",
       "      <td>Humanities</td>\n",
       "      <td>14</td>\n",
       "      <td>NaN</td>\n",
       "      <td>NaN</td>\n",
       "      <td>1</td>\n",
       "      <td>42</td>\n",
       "      <td>1.0</td>\n",
       "    </tr>\n",
       "    <tr>\n",
       "      <th>19154</th>\n",
       "      <td>31398</td>\n",
       "      <td>city_103</td>\n",
       "      <td>0.920</td>\n",
       "      <td>Male</td>\n",
       "      <td>Has relevent experience</td>\n",
       "      <td>no_enrollment</td>\n",
       "      <td>Graduate</td>\n",
       "      <td>STEM</td>\n",
       "      <td>14</td>\n",
       "      <td>NaN</td>\n",
       "      <td>NaN</td>\n",
       "      <td>4</td>\n",
       "      <td>52</td>\n",
       "      <td>1.0</td>\n",
       "    </tr>\n",
       "    <tr>\n",
       "      <th>19155</th>\n",
       "      <td>24576</td>\n",
       "      <td>city_103</td>\n",
       "      <td>0.920</td>\n",
       "      <td>Male</td>\n",
       "      <td>Has relevent experience</td>\n",
       "      <td>no_enrollment</td>\n",
       "      <td>Graduate</td>\n",
       "      <td>STEM</td>\n",
       "      <td>&gt;20</td>\n",
       "      <td>50-99</td>\n",
       "      <td>Pvt Ltd</td>\n",
       "      <td>4</td>\n",
       "      <td>44</td>\n",
       "      <td>0.0</td>\n",
       "    </tr>\n",
       "    <tr>\n",
       "      <th>19156</th>\n",
       "      <td>5756</td>\n",
       "      <td>city_65</td>\n",
       "      <td>0.802</td>\n",
       "      <td>Male</td>\n",
       "      <td>Has relevent experience</td>\n",
       "      <td>no_enrollment</td>\n",
       "      <td>High School</td>\n",
       "      <td>NaN</td>\n",
       "      <td>&lt;1</td>\n",
       "      <td>500-999</td>\n",
       "      <td>Pvt Ltd</td>\n",
       "      <td>2</td>\n",
       "      <td>97</td>\n",
       "      <td>0.0</td>\n",
       "    </tr>\n",
       "    <tr>\n",
       "      <th>19157</th>\n",
       "      <td>23834</td>\n",
       "      <td>city_67</td>\n",
       "      <td>0.855</td>\n",
       "      <td>NaN</td>\n",
       "      <td>No relevent experience</td>\n",
       "      <td>no_enrollment</td>\n",
       "      <td>Primary School</td>\n",
       "      <td>NaN</td>\n",
       "      <td>2</td>\n",
       "      <td>NaN</td>\n",
       "      <td>NaN</td>\n",
       "      <td>1</td>\n",
       "      <td>127</td>\n",
       "      <td>0.0</td>\n",
       "    </tr>\n",
       "  </tbody>\n",
       "</table>\n",
       "<p>19158 rows × 14 columns</p>\n",
       "</div>"
      ],
      "text/plain": [
       "       enrollee_id      city  city_development_index gender  \\\n",
       "0             8949  city_103                   0.920   Male   \n",
       "1            29725   city_40                   0.776   Male   \n",
       "2            11561   city_21                   0.624    NaN   \n",
       "3            33241  city_115                   0.789    NaN   \n",
       "4              666  city_162                   0.767   Male   \n",
       "...            ...       ...                     ...    ...   \n",
       "19153         7386  city_173                   0.878   Male   \n",
       "19154        31398  city_103                   0.920   Male   \n",
       "19155        24576  city_103                   0.920   Male   \n",
       "19156         5756   city_65                   0.802   Male   \n",
       "19157        23834   city_67                   0.855    NaN   \n",
       "\n",
       "           relevent_experience enrolled_university education_level  \\\n",
       "0      Has relevent experience       no_enrollment        Graduate   \n",
       "1       No relevent experience       no_enrollment        Graduate   \n",
       "2       No relevent experience    Full time course        Graduate   \n",
       "3       No relevent experience                 NaN        Graduate   \n",
       "4      Has relevent experience       no_enrollment         Masters   \n",
       "...                        ...                 ...             ...   \n",
       "19153   No relevent experience       no_enrollment        Graduate   \n",
       "19154  Has relevent experience       no_enrollment        Graduate   \n",
       "19155  Has relevent experience       no_enrollment        Graduate   \n",
       "19156  Has relevent experience       no_enrollment     High School   \n",
       "19157   No relevent experience       no_enrollment  Primary School   \n",
       "\n",
       "      major_discipline experience company_size    company_type last_new_job  \\\n",
       "0                 STEM        >20          NaN             NaN            1   \n",
       "1                 STEM         15        50-99         Pvt Ltd           >4   \n",
       "2                 STEM          5          NaN             NaN        never   \n",
       "3      Business Degree         <1          NaN         Pvt Ltd        never   \n",
       "4                 STEM        >20        50-99  Funded Startup            4   \n",
       "...                ...        ...          ...             ...          ...   \n",
       "19153       Humanities         14          NaN             NaN            1   \n",
       "19154             STEM         14          NaN             NaN            4   \n",
       "19155             STEM        >20        50-99         Pvt Ltd            4   \n",
       "19156              NaN         <1      500-999         Pvt Ltd            2   \n",
       "19157              NaN          2          NaN             NaN            1   \n",
       "\n",
       "       training_hours  target  \n",
       "0                  36     1.0  \n",
       "1                  47     0.0  \n",
       "2                  83     0.0  \n",
       "3                  52     1.0  \n",
       "4                   8     0.0  \n",
       "...               ...     ...  \n",
       "19153              42     1.0  \n",
       "19154              52     1.0  \n",
       "19155              44     0.0  \n",
       "19156              97     0.0  \n",
       "19157             127     0.0  \n",
       "\n",
       "[19158 rows x 14 columns]"
      ]
     },
     "execution_count": 129,
     "metadata": {},
     "output_type": "execute_result"
    }
   ],
   "source": [
    "aug_df"
   ]
  },
  {
   "cell_type": "markdown",
   "metadata": {},
   "source": [
    "#### Đếm số dòng/cột\n",
    "- Số dòng và số cột được lưu vào hai biến `n_rows` và `n_columns`"
   ]
  },
  {
   "cell_type": "code",
   "execution_count": 130,
   "metadata": {},
   "outputs": [
    {
     "name": "stdout",
     "output_type": "stream",
     "text": [
      "19158 14\n"
     ]
    }
   ],
   "source": [
    "n_rows = len(aug_df)\n",
    "n_columns = len(aug_df.columns)\n",
    "print(n_rows, n_columns)"
   ]
  },
  {
   "cell_type": "code",
   "execution_count": 131,
   "metadata": {},
   "outputs": [
    {
     "data": {
      "text/plain": [
       "enrollee_id                 int64\n",
       "city                       object\n",
       "city_development_index    float64\n",
       "gender                     object\n",
       "relevent_experience        object\n",
       "enrolled_university        object\n",
       "education_level            object\n",
       "major_discipline           object\n",
       "experience                 object\n",
       "company_size               object\n",
       "company_type               object\n",
       "last_new_job               object\n",
       "training_hours              int64\n",
       "target                    float64\n",
       "dtype: object"
      ]
     },
     "execution_count": 131,
     "metadata": {},
     "output_type": "execute_result"
    }
   ],
   "source": [
    "aug_df.dtypes"
   ]
  },
  {
   "cell_type": "markdown",
   "metadata": {},
   "source": [
    "#### Ý nghĩa của mỗi cột"
   ]
  },
  {
   "cell_type": "code",
   "execution_count": 136,
   "metadata": {},
   "outputs": [
    {
     "name": "stdout",
     "output_type": "stream",
     "text": [
      "1) enrollee_id:                 Unique ID for candidate\n",
      "2) city:                        City code\n",
      "3) city_ development _index:    Developement index of the city (scaled)\n",
      "4) gender:                      Gender of candidate\n",
      "5) relevent_experience:         Relevant experience of candidate\n",
      "6) enrolled_university:         Type of University course enrolled if any\n",
      "7) education_level:             Education level of candidate\n",
      "8) major_discipline:            Education major discipline of candidate\n",
      "9) experience:                  Candidate total experience in years\n",
      "10) company_size:               No of employees in current employer's company\n",
      "11) company_type:               Type of current employer\n",
      "12) lastnewjob:                 Difference in years between previous job and current job\n",
      "13) training_hours:             training hours completed\n",
      "14) target:                     0 – Not looking for job change, 1 – Looking for a job change\n"
     ]
    }
   ],
   "source": [
    "with open('description.txt', 'r',encoding='utf-8') as f:\n",
    "    print(f.read())"
   ]
  },
  {
   "cell_type": "markdown",
   "metadata": {},
   "source": [
    "Giáo dục:\n",
    "- enrolled_university\n",
    "- education_level\n",
    "- major_discipline\n",
    "\n",
    "Môi trường làm việc:\n",
    "- city/city_ development _index*\n",
    "- relevent_experience\n",
    "- company_size\n",
    "- company_type\n",
    "\n",
    "Yếu tố cá nhân khác:\n",
    "- Gender\n",
    "- experience\n",
    "- lastnewjob\n",
    "- training_hours"
   ]
  },
  {
   "cell_type": "markdown",
   "metadata": {},
   "source": [
    "#### Kiểm tra dòng bị lặp"
   ]
  },
  {
   "cell_type": "code",
   "execution_count": 137,
   "metadata": {},
   "outputs": [
    {
     "name": "stdout",
     "output_type": "stream",
     "text": [
      "False\n"
     ]
    }
   ],
   "source": [
    "print(aug_df.duplicated().any())"
   ]
  },
  {
   "cell_type": "markdown",
   "metadata": {},
   "source": [
    "#### Kiểm tra số giá trị bị thiếu trong mỗi cột\n",
    "- Ta lưu giá trị số dòng bị thiếu của mỗi cột vào dictionary `missing_dict`. \n",
    "- Trong đó, key là tên của cột, value là số dòng bị thiếu trong cột đó.\n",
    "- Ta có thể in thêm % số dòng bị thiếu, để ước tính mức độ thiếu dữ liệu, từ đó đưa ra quyết định có nên drop cột đó hay không"
   ]
  },
  {
   "cell_type": "code",
   "execution_count": 133,
   "metadata": {},
   "outputs": [
    {
     "name": "stdout",
     "output_type": "stream",
     "text": [
      "enrollee_id : 0 | 0.0\n",
      "city : 0 | 0.0\n",
      "city_development_index : 0 | 0.0\n",
      "gender : 4508 | 23.530639941538784\n",
      "relevent_experience : 0 | 0.0\n",
      "enrolled_university : 386 | 2.0148240943731075\n",
      "education_level : 460 | 2.401085708320284\n",
      "major_discipline : 2813 | 14.68316108153252\n",
      "experience : 65 | 0.33928385008873574\n",
      "company_size : 5938 | 30.994884643490973\n",
      "company_type : 6140 | 32.04927445453596\n",
      "last_new_job : 423 | 2.207954901346696\n",
      "training_hours : 0 | 0.0\n",
      "target : 0 | 0.0\n"
     ]
    }
   ],
   "source": [
    "column_name = aug_df.columns\n",
    "col_missing_count = []\n",
    "for col in column_name:\n",
    "    col_missing_count.append(aug_df[col].isna().sum())\n",
    "missing_dict = dict(zip(column_name, col_missing_count))\n",
    "for key, value in missing_dict.items():\n",
    "    print(key, ':', value, '|', value/n_rows*100)"
   ]
  },
  {
   "cell_type": "markdown",
   "metadata": {},
   "source": [
    "### Tiền xử lí dữ liệu\n",
    "- Đối với các cột dữ liệu bị thiếu, sau khi quan sát các giá trị ở trong bảng dữ liệu, chúng em nhận ra ở đây tồn tại hai vấn đề:\n",
    "    - Dữ liệu trong các cột bị thiếu không hề đồng nhất. Đúng hơn là ở các cột mà nhìn vào ta nghĩ nó là cột `numeric` thì không phải, do nó có chứa các giá trị như `<1, >4, 1000+, ...`, hay nói đúng hơn là chứa các miền giá trị\n",
    "    - Các miền giá trị có cách ghi không đồng nhất (company_size là trường hợp này)\n",
    "- Do đó, chúng em quyết định tách các cột này ra thành 2 loại để xử lí: cột không chứa miền giá trị (chỉ chứa các string) và cột chứa số có miền giá trị"
   ]
  },
  {
   "cell_type": "markdown",
   "metadata": {},
   "source": [
    "#### Các cột chỉ chứa string\n",
    "- Đối với các cột loại này, cách xử lí tương đối là đơn giản, chỉ cần thay các giá trị bị thiếu bằng mode, hoặc một giá trị khác là được"
   ]
  },
  {
   "cell_type": "code",
   "execution_count": 134,
   "metadata": {},
   "outputs": [],
   "source": [
    "def fill_missing_by_mode(column_name):\n",
    "    if column_name == 'Gender':\n",
    "        aug_df[column_name].fillna('Other')\n",
    "    else:\n",
    "        mode = aug_df[column_name].mode(dropna=True)\n",
    "        aug_df[column_name].fillna(mode)\n",
    "\n"
   ]
  },
  {
   "cell_type": "markdown",
   "metadata": {},
   "source": [
    "#### Các cột chứa miền giá trị \n",
    "- Xử lí các cột này có một chút rắc rối, nhưng nhìn chung vẫn tương đối dễ thực hiện.\n",
    "- Như đã đề cập ở trên, do cột company_size khá là đặc biệt, cho nên ta lại tiếp tục tách riêng ra để xử lí.\n",
    "- Đối với các cột khác, ta chỉ cần thay thể các giá trị chứa dấu `<` hoặc `>` bằng số được giảm/tăng 1 đơn vị tương ứng\n",
    "- Còn đồi với cột company_size, ta có vài thứ cần thực hiện như sau:\n",
    "    - Giá trị `10/49` trong cột có nghĩa là `10-49` giống như các giá trị khác, chứ không phải là tháng 10 năm 49 :)))\n",
    "    - Thay thế các giá trị ở dạng `a-b` bằng giá trị trung vị của nó (đưa về int tất nhiên sẽ dễ xử lí hơn)\n",
    "    - Đôi với giá trị `<10`, ta không thể để = 0 được (mặc dù về mặt hình thức thì ta để bất kì số nào trong khoảng 0-9 đều như nhau), vì như thế ý nghĩa của giá trị này sẽ mất đi.\n",
    "    - Đối với giá trị `10000+`, ta chỉ cần xóa dấu `+` đi là được\n",
    "- Sau khi xác định xong các giá trị cần thay thế, ta tiến hành thay trực tiếp giá trị đó vào cột (dùng `loc`)"
   ]
  },
  {
   "cell_type": "code",
   "execution_count": 135,
   "metadata": {},
   "outputs": [
    {
     "name": "stdout",
     "output_type": "stream",
     "text": [
      "0            NaN\n",
      "1          50-99\n",
      "2            NaN\n",
      "3            NaN\n",
      "4          50-99\n",
      "          ...   \n",
      "19153        NaN\n",
      "19154        NaN\n",
      "19155      50-99\n",
      "19156    500-999\n",
      "19157        NaN\n",
      "Name: company_size, Length: 19158, dtype: object\n",
      "5938\n",
      "0        2100.0\n",
      "1          30.0\n",
      "2        2100.0\n",
      "3        2100.0\n",
      "4          30.0\n",
      "          ...  \n",
      "19153    2100.0\n",
      "19154    2100.0\n",
      "19155      30.0\n",
      "19156     300.0\n",
      "19157    2100.0\n",
      "Name: company_size, Length: 19158, dtype: object\n",
      "0\n"
     ]
    }
   ],
   "source": [
    "def fill_missing_undefinite_range(column_name): \n",
    "    list_unique = aug_df[column_name].dropna().unique()\n",
    "    list_number = [s for s in list_unique if s.isdigit()]\n",
    "    list_number = list(map(int, list_number)); list_number.sort()\n",
    "    list_range = [s for s in list_unique if not(s.isdigit())]\n",
    "    mid = len(list_number) // 2\n",
    "    median = (list_number[mid] + list_number[~mid]) / 2\n",
    "    print(list_unique,list_number, list_range)\n",
    "    aug_df[column_name]=aug_df[column_name].fillna(median)\n",
    "    if 'never' in list_range:\n",
    "        aug_df.loc[aug_df[column_name].str.contains('never', na=False), column_name] = 0\n",
    "    aug_df.loc[aug_df[column_name].str.contains('>', na=False), column_name] = list_number[-1]\n",
    "    aug_df.loc[aug_df[column_name].str.contains('<', na=False), column_name] = list_number[0]\n",
    "\n",
    "def fill_missing_definite_range(): #company_size\n",
    "    list_unique = aug_df['company_size'].dropna().unique()\n",
    "    list_replace = len(list_unique)*[None]\n",
    "    for i in range(len(list_unique)):\n",
    "        if list_unique[i] == '10/49':\n",
    "            list_replace[i] = (10+50)/2\n",
    "        elif '+' in list_unique[i]:\n",
    "            list_replace[i] = int(list_unique[i][:-1])\n",
    "        elif list_unique[i] == '<10':\n",
    "            list_replace[i] = 1\n",
    "        else:\n",
    "            x = list_unique[i].split(\"-\", 1)\n",
    "            list_replace[i] = (int(x[0])+int(x[1])+1)*0.2\n",
    "    mid = len(list_replace) // 2\n",
    "    median = (list_replace[mid] + list_replace[~mid]) / 2      \n",
    "    aug_df[column_name]=aug_df[column_name].fillna(median)\n",
    "    for i in range(len(list_replace)):\n",
    "        aug_df.loc[aug_df['company_size'].str.contains(list_unique[i], na=False), 'company_size'] = list_replace[i]\n",
    "\n",
    "print(aug_df['company_size'])\n",
    "print(aug_df['company_size'].isna().sum())\n",
    "fill_missing_definite_range()\n",
    "print(aug_df['company_size'])\n",
    "print(aug_df['company_size'].isna().sum())"
   ]
  },
  {
   "cell_type": "markdown",
   "metadata": {},
   "source": [
    "### Đặt câu hỏi\n",
    "1. Xác định các nhân tố khách quan, chủ quan ảnh hưởng tới kết quả của cột target. Lí giải vì sao nhân tố đó lại là khách quan, chủ quan.\n",
    "2. Dựa vào các nhân tố khách quan, đánh giá xem chúng có ảnh hưởng như thế nào tới cột target? \n",
    "3. Dựa vào các nhân tố chủ quan, đánh giá xem chúng có ảnh hưởng như thế nào tới cột target?"
   ]
  },
  {
   "cell_type": "markdown",
   "metadata": {},
   "source": [
    "### Trả lời câu hỏi"
   ]
  },
  {
   "cell_type": "code",
   "execution_count": null,
   "metadata": {},
   "outputs": [],
   "source": []
  }
 ],
 "metadata": {
  "interpreter": {
   "hash": "be353290322b998ceed415efe2feb2b45a0cbb60742115a4a855aee874dba8ae"
  },
  "kernelspec": {
   "display_name": "Python 3.8.8 64-bit ('min_ds-env': conda)",
   "language": "python",
   "name": "python3"
  },
  "language_info": {
   "codemirror_mode": {
    "name": "ipython",
    "version": 3
   },
   "file_extension": ".py",
   "mimetype": "text/x-python",
   "name": "python",
   "nbconvert_exporter": "python",
   "pygments_lexer": "ipython3",
   "version": "3.8.8"
  },
  "orig_nbformat": 4
 },
 "nbformat": 4,
 "nbformat_minor": 2
}
