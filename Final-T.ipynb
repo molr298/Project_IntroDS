{
 "cells": [
  {
   "cell_type": "markdown",
   "metadata": {},
   "source": [
    "# FINAL PROJECT\n",
    "***"
   ]
  },
  {
   "cell_type": "markdown",
   "metadata": {},
   "source": [
    "## Thành viên\n",
    "- 19127642&nbsp;&nbsp;&nbsp;&nbsp;&nbsp;&nbsp;&nbsp;Võ Nhất Huy\n",
    "- 19127592&nbsp;&nbsp;&nbsp;&nbsp;&nbsp;&nbsp;&nbsp;Lê Minh Trí\n",
    "## Dataset\n",
    "- HR Analytics: Job Change of Data Scientists\n",
    "- Link: https://www.kaggle.com/arashnic/hr-analytics-job-change-of-data-scientists\n",
    "***"
   ]
  },
  {
   "cell_type": "code",
   "execution_count": 377,
   "metadata": {},
   "outputs": [],
   "source": [
    "import sys\n",
    "import pandas as pd\n",
    "import matplotlib.pyplot as plt\n",
    "import numpy as np\n",
    "import datetime\n",
    "import re\n",
    "import plotly.express as px"
   ]
  },
  {
   "cell_type": "markdown",
   "metadata": {},
   "source": [
    "## Thu nhập dữ liệu"
   ]
  },
  {
   "cell_type": "code",
   "execution_count": 378,
   "metadata": {},
   "outputs": [
    {
     "data": {
      "text/html": [
       "<div>\n",
       "<style scoped>\n",
       "    .dataframe tbody tr th:only-of-type {\n",
       "        vertical-align: middle;\n",
       "    }\n",
       "\n",
       "    .dataframe tbody tr th {\n",
       "        vertical-align: top;\n",
       "    }\n",
       "\n",
       "    .dataframe thead th {\n",
       "        text-align: right;\n",
       "    }\n",
       "</style>\n",
       "<table border=\"1\" class=\"dataframe\">\n",
       "  <thead>\n",
       "    <tr style=\"text-align: right;\">\n",
       "      <th></th>\n",
       "      <th>enrollee_id</th>\n",
       "      <th>city</th>\n",
       "      <th>city_development_index</th>\n",
       "      <th>gender</th>\n",
       "      <th>relevent_experience</th>\n",
       "      <th>enrolled_university</th>\n",
       "      <th>education_level</th>\n",
       "      <th>major_discipline</th>\n",
       "      <th>experience</th>\n",
       "      <th>company_size</th>\n",
       "      <th>company_type</th>\n",
       "      <th>last_new_job</th>\n",
       "      <th>training_hours</th>\n",
       "      <th>target</th>\n",
       "    </tr>\n",
       "  </thead>\n",
       "  <tbody>\n",
       "    <tr>\n",
       "      <th>0</th>\n",
       "      <td>8949</td>\n",
       "      <td>city_103</td>\n",
       "      <td>0.920</td>\n",
       "      <td>Male</td>\n",
       "      <td>Has relevent experience</td>\n",
       "      <td>no_enrollment</td>\n",
       "      <td>Graduate</td>\n",
       "      <td>STEM</td>\n",
       "      <td>&gt;20</td>\n",
       "      <td>NaN</td>\n",
       "      <td>NaN</td>\n",
       "      <td>1</td>\n",
       "      <td>36</td>\n",
       "      <td>1.0</td>\n",
       "    </tr>\n",
       "    <tr>\n",
       "      <th>1</th>\n",
       "      <td>29725</td>\n",
       "      <td>city_40</td>\n",
       "      <td>0.776</td>\n",
       "      <td>Male</td>\n",
       "      <td>No relevent experience</td>\n",
       "      <td>no_enrollment</td>\n",
       "      <td>Graduate</td>\n",
       "      <td>STEM</td>\n",
       "      <td>15</td>\n",
       "      <td>50-99</td>\n",
       "      <td>Pvt Ltd</td>\n",
       "      <td>&gt;4</td>\n",
       "      <td>47</td>\n",
       "      <td>0.0</td>\n",
       "    </tr>\n",
       "    <tr>\n",
       "      <th>2</th>\n",
       "      <td>11561</td>\n",
       "      <td>city_21</td>\n",
       "      <td>0.624</td>\n",
       "      <td>NaN</td>\n",
       "      <td>No relevent experience</td>\n",
       "      <td>Full time course</td>\n",
       "      <td>Graduate</td>\n",
       "      <td>STEM</td>\n",
       "      <td>5</td>\n",
       "      <td>NaN</td>\n",
       "      <td>NaN</td>\n",
       "      <td>never</td>\n",
       "      <td>83</td>\n",
       "      <td>0.0</td>\n",
       "    </tr>\n",
       "    <tr>\n",
       "      <th>3</th>\n",
       "      <td>33241</td>\n",
       "      <td>city_115</td>\n",
       "      <td>0.789</td>\n",
       "      <td>NaN</td>\n",
       "      <td>No relevent experience</td>\n",
       "      <td>NaN</td>\n",
       "      <td>Graduate</td>\n",
       "      <td>Business Degree</td>\n",
       "      <td>&lt;1</td>\n",
       "      <td>NaN</td>\n",
       "      <td>Pvt Ltd</td>\n",
       "      <td>never</td>\n",
       "      <td>52</td>\n",
       "      <td>1.0</td>\n",
       "    </tr>\n",
       "    <tr>\n",
       "      <th>4</th>\n",
       "      <td>666</td>\n",
       "      <td>city_162</td>\n",
       "      <td>0.767</td>\n",
       "      <td>Male</td>\n",
       "      <td>Has relevent experience</td>\n",
       "      <td>no_enrollment</td>\n",
       "      <td>Masters</td>\n",
       "      <td>STEM</td>\n",
       "      <td>&gt;20</td>\n",
       "      <td>50-99</td>\n",
       "      <td>Funded Startup</td>\n",
       "      <td>4</td>\n",
       "      <td>8</td>\n",
       "      <td>0.0</td>\n",
       "    </tr>\n",
       "    <tr>\n",
       "      <th>...</th>\n",
       "      <td>...</td>\n",
       "      <td>...</td>\n",
       "      <td>...</td>\n",
       "      <td>...</td>\n",
       "      <td>...</td>\n",
       "      <td>...</td>\n",
       "      <td>...</td>\n",
       "      <td>...</td>\n",
       "      <td>...</td>\n",
       "      <td>...</td>\n",
       "      <td>...</td>\n",
       "      <td>...</td>\n",
       "      <td>...</td>\n",
       "      <td>...</td>\n",
       "    </tr>\n",
       "    <tr>\n",
       "      <th>19153</th>\n",
       "      <td>7386</td>\n",
       "      <td>city_173</td>\n",
       "      <td>0.878</td>\n",
       "      <td>Male</td>\n",
       "      <td>No relevent experience</td>\n",
       "      <td>no_enrollment</td>\n",
       "      <td>Graduate</td>\n",
       "      <td>Humanities</td>\n",
       "      <td>14</td>\n",
       "      <td>NaN</td>\n",
       "      <td>NaN</td>\n",
       "      <td>1</td>\n",
       "      <td>42</td>\n",
       "      <td>1.0</td>\n",
       "    </tr>\n",
       "    <tr>\n",
       "      <th>19154</th>\n",
       "      <td>31398</td>\n",
       "      <td>city_103</td>\n",
       "      <td>0.920</td>\n",
       "      <td>Male</td>\n",
       "      <td>Has relevent experience</td>\n",
       "      <td>no_enrollment</td>\n",
       "      <td>Graduate</td>\n",
       "      <td>STEM</td>\n",
       "      <td>14</td>\n",
       "      <td>NaN</td>\n",
       "      <td>NaN</td>\n",
       "      <td>4</td>\n",
       "      <td>52</td>\n",
       "      <td>1.0</td>\n",
       "    </tr>\n",
       "    <tr>\n",
       "      <th>19155</th>\n",
       "      <td>24576</td>\n",
       "      <td>city_103</td>\n",
       "      <td>0.920</td>\n",
       "      <td>Male</td>\n",
       "      <td>Has relevent experience</td>\n",
       "      <td>no_enrollment</td>\n",
       "      <td>Graduate</td>\n",
       "      <td>STEM</td>\n",
       "      <td>&gt;20</td>\n",
       "      <td>50-99</td>\n",
       "      <td>Pvt Ltd</td>\n",
       "      <td>4</td>\n",
       "      <td>44</td>\n",
       "      <td>0.0</td>\n",
       "    </tr>\n",
       "    <tr>\n",
       "      <th>19156</th>\n",
       "      <td>5756</td>\n",
       "      <td>city_65</td>\n",
       "      <td>0.802</td>\n",
       "      <td>Male</td>\n",
       "      <td>Has relevent experience</td>\n",
       "      <td>no_enrollment</td>\n",
       "      <td>High School</td>\n",
       "      <td>NaN</td>\n",
       "      <td>&lt;1</td>\n",
       "      <td>500-999</td>\n",
       "      <td>Pvt Ltd</td>\n",
       "      <td>2</td>\n",
       "      <td>97</td>\n",
       "      <td>0.0</td>\n",
       "    </tr>\n",
       "    <tr>\n",
       "      <th>19157</th>\n",
       "      <td>23834</td>\n",
       "      <td>city_67</td>\n",
       "      <td>0.855</td>\n",
       "      <td>NaN</td>\n",
       "      <td>No relevent experience</td>\n",
       "      <td>no_enrollment</td>\n",
       "      <td>Primary School</td>\n",
       "      <td>NaN</td>\n",
       "      <td>2</td>\n",
       "      <td>NaN</td>\n",
       "      <td>NaN</td>\n",
       "      <td>1</td>\n",
       "      <td>127</td>\n",
       "      <td>0.0</td>\n",
       "    </tr>\n",
       "  </tbody>\n",
       "</table>\n",
       "<p>19158 rows × 14 columns</p>\n",
       "</div>"
      ],
      "text/plain": [
       "       enrollee_id      city  city_development_index gender  \\\n",
       "0             8949  city_103                   0.920   Male   \n",
       "1            29725   city_40                   0.776   Male   \n",
       "2            11561   city_21                   0.624    NaN   \n",
       "3            33241  city_115                   0.789    NaN   \n",
       "4              666  city_162                   0.767   Male   \n",
       "...            ...       ...                     ...    ...   \n",
       "19153         7386  city_173                   0.878   Male   \n",
       "19154        31398  city_103                   0.920   Male   \n",
       "19155        24576  city_103                   0.920   Male   \n",
       "19156         5756   city_65                   0.802   Male   \n",
       "19157        23834   city_67                   0.855    NaN   \n",
       "\n",
       "           relevent_experience enrolled_university education_level  \\\n",
       "0      Has relevent experience       no_enrollment        Graduate   \n",
       "1       No relevent experience       no_enrollment        Graduate   \n",
       "2       No relevent experience    Full time course        Graduate   \n",
       "3       No relevent experience                 NaN        Graduate   \n",
       "4      Has relevent experience       no_enrollment         Masters   \n",
       "...                        ...                 ...             ...   \n",
       "19153   No relevent experience       no_enrollment        Graduate   \n",
       "19154  Has relevent experience       no_enrollment        Graduate   \n",
       "19155  Has relevent experience       no_enrollment        Graduate   \n",
       "19156  Has relevent experience       no_enrollment     High School   \n",
       "19157   No relevent experience       no_enrollment  Primary School   \n",
       "\n",
       "      major_discipline experience company_size    company_type last_new_job  \\\n",
       "0                 STEM        >20          NaN             NaN            1   \n",
       "1                 STEM         15        50-99         Pvt Ltd           >4   \n",
       "2                 STEM          5          NaN             NaN        never   \n",
       "3      Business Degree         <1          NaN         Pvt Ltd        never   \n",
       "4                 STEM        >20        50-99  Funded Startup            4   \n",
       "...                ...        ...          ...             ...          ...   \n",
       "19153       Humanities         14          NaN             NaN            1   \n",
       "19154             STEM         14          NaN             NaN            4   \n",
       "19155             STEM        >20        50-99         Pvt Ltd            4   \n",
       "19156              NaN         <1      500-999         Pvt Ltd            2   \n",
       "19157              NaN          2          NaN             NaN            1   \n",
       "\n",
       "       training_hours  target  \n",
       "0                  36     1.0  \n",
       "1                  47     0.0  \n",
       "2                  83     0.0  \n",
       "3                  52     1.0  \n",
       "4                   8     0.0  \n",
       "...               ...     ...  \n",
       "19153              42     1.0  \n",
       "19154              52     1.0  \n",
       "19155              44     0.0  \n",
       "19156              97     0.0  \n",
       "19157             127     0.0  \n",
       "\n",
       "[19158 rows x 14 columns]"
      ]
     },
     "execution_count": 378,
     "metadata": {},
     "output_type": "execute_result"
    }
   ],
   "source": [
    "aug_df = pd.read_csv('aug_train.csv')\n",
    "aug_df"
   ]
  },
  {
   "cell_type": "markdown",
   "metadata": {},
   "source": [
    "### Có bao nhiêu dòng cột? Có dòng nào bị lặp không ?"
   ]
  },
  {
   "cell_type": "code",
   "execution_count": 379,
   "metadata": {},
   "outputs": [
    {
     "name": "stdout",
     "output_type": "stream",
     "text": [
      "19158 14\n"
     ]
    }
   ],
   "source": [
    "num_rows = len(aug_df)\n",
    "num_cols = len(aug_df.columns)\n",
    "print(num_rows , num_cols)"
   ]
  },
  {
   "cell_type": "code",
   "execution_count": 380,
   "metadata": {},
   "outputs": [
    {
     "data": {
      "text/plain": [
       "False"
      ]
     },
     "execution_count": 380,
     "metadata": {},
     "output_type": "execute_result"
    }
   ],
   "source": [
    "have_duplicated_rows = aug_df.duplicated().any()\n",
    "have_duplicated_rows"
   ]
  },
  {
   "cell_type": "markdown",
   "metadata": {},
   "source": [
    "---"
   ]
  },
  {
   "cell_type": "markdown",
   "metadata": {},
   "source": [
    "## Khám phá dữ liệu"
   ]
  },
  {
   "cell_type": "code",
   "execution_count": 381,
   "metadata": {},
   "outputs": [
    {
     "name": "stdout",
     "output_type": "stream",
     "text": [
      "<class 'pandas.core.frame.DataFrame'>\n",
      "RangeIndex: 19158 entries, 0 to 19157\n",
      "Data columns (total 14 columns):\n",
      " #   Column                  Non-Null Count  Dtype  \n",
      "---  ------                  --------------  -----  \n",
      " 0   enrollee_id             19158 non-null  int64  \n",
      " 1   city                    19158 non-null  object \n",
      " 2   city_development_index  19158 non-null  float64\n",
      " 3   gender                  14650 non-null  object \n",
      " 4   relevent_experience     19158 non-null  object \n",
      " 5   enrolled_university     18772 non-null  object \n",
      " 6   education_level         18698 non-null  object \n",
      " 7   major_discipline        16345 non-null  object \n",
      " 8   experience              19093 non-null  object \n",
      " 9   company_size            13220 non-null  object \n",
      " 10  company_type            13018 non-null  object \n",
      " 11  last_new_job            18735 non-null  object \n",
      " 12  training_hours          19158 non-null  int64  \n",
      " 13  target                  19158 non-null  float64\n",
      "dtypes: float64(2), int64(2), object(10)\n",
      "memory usage: 2.0+ MB\n"
     ]
    }
   ],
   "source": [
    "aug_df.info()"
   ]
  },
  {
   "cell_type": "markdown",
   "metadata": {},
   "source": [
    "### Mỗi cột có ý nghĩa gì ?"
   ]
  },
  {
   "cell_type": "code",
   "execution_count": 382,
   "metadata": {},
   "outputs": [
    {
     "name": "stdout",
     "output_type": "stream",
     "text": [
      "1) enrollee_id:                 Unique ID for candidate\n",
      "2) city:                        City code\n",
      "3) city_ development _index:    Developement index of the city (scaled)\n",
      "4) gender:                      Gender of candidate\n",
      "5) relevent_experience:         Relevant experience of candidate\n",
      "6) enrolled_university:         Type of University course enrolled if any\n",
      "7) education_level:             Education level of candidate\n",
      "8) major_discipline:            Education major discipline of candidate\n",
      "9) experience:                  Candidate total experience in years\n",
      "10) company_size:               No of employees in current employer's company\n",
      "11) company_type:               Type of current employer\n",
      "12) lastnewjob:                 Difference in years between previous job and current job\n",
      "13) training_hours:             training hours completed\n",
      "14) target:                     0 – Not looking for job change, 1 – Looking for a job change\n"
     ]
    }
   ],
   "source": [
    "with open('description.txt', 'r',encoding='utf-8') as f:\n",
    "    print(f.read())"
   ]
  },
  {
   "cell_type": "markdown",
   "metadata": {},
   "source": [
    "### Mỗi cột đang có kiểu dữ liệu gì? Các cột object đang tượng trưng cho các kiểu dữ liệu như thế nào?"
   ]
  },
  {
   "cell_type": "code",
   "execution_count": 383,
   "metadata": {},
   "outputs": [
    {
     "data": {
      "text/plain": [
       "enrollee_id                 int64\n",
       "city                       object\n",
       "city_development_index    float64\n",
       "gender                     object\n",
       "relevent_experience        object\n",
       "enrolled_university        object\n",
       "education_level            object\n",
       "major_discipline           object\n",
       "experience                 object\n",
       "company_size               object\n",
       "company_type               object\n",
       "last_new_job               object\n",
       "training_hours              int64\n",
       "target                    float64\n",
       "dtype: object"
      ]
     },
     "execution_count": 383,
     "metadata": {},
     "output_type": "execute_result"
    }
   ],
   "source": [
    "col_dtypes = aug_df.dtypes\n",
    "col_dtypes"
   ]
  },
  {
   "cell_type": "markdown",
   "metadata": {},
   "source": [
    "Ta có thể thấy hầu hết các cột đều có kiểu object. \n",
    "\n",
    "Kiểu dữ liệu object thường ám chỉ hoặc tập hơn nhiều hơn một kiểu dữ liệu, có thể tập hợp giữa string, int hoặc đối tượng bất kỳ trong Python. \n",
    "\n",
    "Để chương trình có thể chạy nhanh và hoàn hảo hơn, ta nên áp dụng các phương pháp tiền xử lý để mã hoá, chuẩn hoá các giá trị này về dạng số."
   ]
  },
  {
   "cell_type": "markdown",
   "metadata": {},
   "source": [
    "---"
   ]
  },
  {
   "cell_type": "markdown",
   "metadata": {},
   "source": [
    "## Tiền xử lý"
   ]
  },
  {
   "cell_type": "markdown",
   "metadata": {},
   "source": [
    "### Categorical"
   ]
  },
  {
   "cell_type": "markdown",
   "metadata": {},
   "source": [
    "Đầu tiên ta sẽ xử lý cột City trước, bởi vì các giá trị đều gắn liền với chữ city kèm index nên ta có thể loại bỏ chữ city đi.\n",
    "\n",
    "Cuối cùng, ta chuyển cột City thành dạng số."
   ]
  },
  {
   "cell_type": "code",
   "execution_count": 384,
   "metadata": {},
   "outputs": [],
   "source": [
    "aug_df['city'] = aug_df['city'].str.replace(\"city_\",\"\")\n",
    "aug_df['city'] = pd.to_numeric(aug_df['city'])\n",
    "aug_df['city_development_index'] = aug_df['city_development_index'].round(decimals=3)"
   ]
  },
  {
   "cell_type": "code",
   "execution_count": 385,
   "metadata": {},
   "outputs": [
    {
     "data": {
      "text/html": [
       "<div>\n",
       "<style scoped>\n",
       "    .dataframe tbody tr th:only-of-type {\n",
       "        vertical-align: middle;\n",
       "    }\n",
       "\n",
       "    .dataframe tbody tr th {\n",
       "        vertical-align: top;\n",
       "    }\n",
       "\n",
       "    .dataframe thead th {\n",
       "        text-align: right;\n",
       "    }\n",
       "</style>\n",
       "<table border=\"1\" class=\"dataframe\">\n",
       "  <thead>\n",
       "    <tr style=\"text-align: right;\">\n",
       "      <th></th>\n",
       "      <th>enrollee_id</th>\n",
       "      <th>city</th>\n",
       "      <th>city_development_index</th>\n",
       "      <th>gender</th>\n",
       "      <th>relevent_experience</th>\n",
       "      <th>enrolled_university</th>\n",
       "      <th>education_level</th>\n",
       "      <th>major_discipline</th>\n",
       "      <th>experience</th>\n",
       "      <th>company_size</th>\n",
       "      <th>company_type</th>\n",
       "      <th>last_new_job</th>\n",
       "      <th>training_hours</th>\n",
       "      <th>target</th>\n",
       "    </tr>\n",
       "  </thead>\n",
       "  <tbody>\n",
       "    <tr>\n",
       "      <th>0</th>\n",
       "      <td>8949</td>\n",
       "      <td>103</td>\n",
       "      <td>0.920</td>\n",
       "      <td>Male</td>\n",
       "      <td>Has relevent experience</td>\n",
       "      <td>no_enrollment</td>\n",
       "      <td>Graduate</td>\n",
       "      <td>STEM</td>\n",
       "      <td>&gt;20</td>\n",
       "      <td>NaN</td>\n",
       "      <td>NaN</td>\n",
       "      <td>1</td>\n",
       "      <td>36</td>\n",
       "      <td>1.0</td>\n",
       "    </tr>\n",
       "    <tr>\n",
       "      <th>1</th>\n",
       "      <td>29725</td>\n",
       "      <td>40</td>\n",
       "      <td>0.776</td>\n",
       "      <td>Male</td>\n",
       "      <td>No relevent experience</td>\n",
       "      <td>no_enrollment</td>\n",
       "      <td>Graduate</td>\n",
       "      <td>STEM</td>\n",
       "      <td>15</td>\n",
       "      <td>50-99</td>\n",
       "      <td>Pvt Ltd</td>\n",
       "      <td>&gt;4</td>\n",
       "      <td>47</td>\n",
       "      <td>0.0</td>\n",
       "    </tr>\n",
       "    <tr>\n",
       "      <th>2</th>\n",
       "      <td>11561</td>\n",
       "      <td>21</td>\n",
       "      <td>0.624</td>\n",
       "      <td>NaN</td>\n",
       "      <td>No relevent experience</td>\n",
       "      <td>Full time course</td>\n",
       "      <td>Graduate</td>\n",
       "      <td>STEM</td>\n",
       "      <td>5</td>\n",
       "      <td>NaN</td>\n",
       "      <td>NaN</td>\n",
       "      <td>never</td>\n",
       "      <td>83</td>\n",
       "      <td>0.0</td>\n",
       "    </tr>\n",
       "    <tr>\n",
       "      <th>3</th>\n",
       "      <td>33241</td>\n",
       "      <td>115</td>\n",
       "      <td>0.789</td>\n",
       "      <td>NaN</td>\n",
       "      <td>No relevent experience</td>\n",
       "      <td>NaN</td>\n",
       "      <td>Graduate</td>\n",
       "      <td>Business Degree</td>\n",
       "      <td>&lt;1</td>\n",
       "      <td>NaN</td>\n",
       "      <td>Pvt Ltd</td>\n",
       "      <td>never</td>\n",
       "      <td>52</td>\n",
       "      <td>1.0</td>\n",
       "    </tr>\n",
       "    <tr>\n",
       "      <th>4</th>\n",
       "      <td>666</td>\n",
       "      <td>162</td>\n",
       "      <td>0.767</td>\n",
       "      <td>Male</td>\n",
       "      <td>Has relevent experience</td>\n",
       "      <td>no_enrollment</td>\n",
       "      <td>Masters</td>\n",
       "      <td>STEM</td>\n",
       "      <td>&gt;20</td>\n",
       "      <td>50-99</td>\n",
       "      <td>Funded Startup</td>\n",
       "      <td>4</td>\n",
       "      <td>8</td>\n",
       "      <td>0.0</td>\n",
       "    </tr>\n",
       "    <tr>\n",
       "      <th>...</th>\n",
       "      <td>...</td>\n",
       "      <td>...</td>\n",
       "      <td>...</td>\n",
       "      <td>...</td>\n",
       "      <td>...</td>\n",
       "      <td>...</td>\n",
       "      <td>...</td>\n",
       "      <td>...</td>\n",
       "      <td>...</td>\n",
       "      <td>...</td>\n",
       "      <td>...</td>\n",
       "      <td>...</td>\n",
       "      <td>...</td>\n",
       "      <td>...</td>\n",
       "    </tr>\n",
       "    <tr>\n",
       "      <th>19153</th>\n",
       "      <td>7386</td>\n",
       "      <td>173</td>\n",
       "      <td>0.878</td>\n",
       "      <td>Male</td>\n",
       "      <td>No relevent experience</td>\n",
       "      <td>no_enrollment</td>\n",
       "      <td>Graduate</td>\n",
       "      <td>Humanities</td>\n",
       "      <td>14</td>\n",
       "      <td>NaN</td>\n",
       "      <td>NaN</td>\n",
       "      <td>1</td>\n",
       "      <td>42</td>\n",
       "      <td>1.0</td>\n",
       "    </tr>\n",
       "    <tr>\n",
       "      <th>19154</th>\n",
       "      <td>31398</td>\n",
       "      <td>103</td>\n",
       "      <td>0.920</td>\n",
       "      <td>Male</td>\n",
       "      <td>Has relevent experience</td>\n",
       "      <td>no_enrollment</td>\n",
       "      <td>Graduate</td>\n",
       "      <td>STEM</td>\n",
       "      <td>14</td>\n",
       "      <td>NaN</td>\n",
       "      <td>NaN</td>\n",
       "      <td>4</td>\n",
       "      <td>52</td>\n",
       "      <td>1.0</td>\n",
       "    </tr>\n",
       "    <tr>\n",
       "      <th>19155</th>\n",
       "      <td>24576</td>\n",
       "      <td>103</td>\n",
       "      <td>0.920</td>\n",
       "      <td>Male</td>\n",
       "      <td>Has relevent experience</td>\n",
       "      <td>no_enrollment</td>\n",
       "      <td>Graduate</td>\n",
       "      <td>STEM</td>\n",
       "      <td>&gt;20</td>\n",
       "      <td>50-99</td>\n",
       "      <td>Pvt Ltd</td>\n",
       "      <td>4</td>\n",
       "      <td>44</td>\n",
       "      <td>0.0</td>\n",
       "    </tr>\n",
       "    <tr>\n",
       "      <th>19156</th>\n",
       "      <td>5756</td>\n",
       "      <td>65</td>\n",
       "      <td>0.802</td>\n",
       "      <td>Male</td>\n",
       "      <td>Has relevent experience</td>\n",
       "      <td>no_enrollment</td>\n",
       "      <td>High School</td>\n",
       "      <td>NaN</td>\n",
       "      <td>&lt;1</td>\n",
       "      <td>500-999</td>\n",
       "      <td>Pvt Ltd</td>\n",
       "      <td>2</td>\n",
       "      <td>97</td>\n",
       "      <td>0.0</td>\n",
       "    </tr>\n",
       "    <tr>\n",
       "      <th>19157</th>\n",
       "      <td>23834</td>\n",
       "      <td>67</td>\n",
       "      <td>0.855</td>\n",
       "      <td>NaN</td>\n",
       "      <td>No relevent experience</td>\n",
       "      <td>no_enrollment</td>\n",
       "      <td>Primary School</td>\n",
       "      <td>NaN</td>\n",
       "      <td>2</td>\n",
       "      <td>NaN</td>\n",
       "      <td>NaN</td>\n",
       "      <td>1</td>\n",
       "      <td>127</td>\n",
       "      <td>0.0</td>\n",
       "    </tr>\n",
       "  </tbody>\n",
       "</table>\n",
       "<p>19158 rows × 14 columns</p>\n",
       "</div>"
      ],
      "text/plain": [
       "       enrollee_id  city  city_development_index gender  \\\n",
       "0             8949   103                   0.920   Male   \n",
       "1            29725    40                   0.776   Male   \n",
       "2            11561    21                   0.624    NaN   \n",
       "3            33241   115                   0.789    NaN   \n",
       "4              666   162                   0.767   Male   \n",
       "...            ...   ...                     ...    ...   \n",
       "19153         7386   173                   0.878   Male   \n",
       "19154        31398   103                   0.920   Male   \n",
       "19155        24576   103                   0.920   Male   \n",
       "19156         5756    65                   0.802   Male   \n",
       "19157        23834    67                   0.855    NaN   \n",
       "\n",
       "           relevent_experience enrolled_university education_level  \\\n",
       "0      Has relevent experience       no_enrollment        Graduate   \n",
       "1       No relevent experience       no_enrollment        Graduate   \n",
       "2       No relevent experience    Full time course        Graduate   \n",
       "3       No relevent experience                 NaN        Graduate   \n",
       "4      Has relevent experience       no_enrollment         Masters   \n",
       "...                        ...                 ...             ...   \n",
       "19153   No relevent experience       no_enrollment        Graduate   \n",
       "19154  Has relevent experience       no_enrollment        Graduate   \n",
       "19155  Has relevent experience       no_enrollment        Graduate   \n",
       "19156  Has relevent experience       no_enrollment     High School   \n",
       "19157   No relevent experience       no_enrollment  Primary School   \n",
       "\n",
       "      major_discipline experience company_size    company_type last_new_job  \\\n",
       "0                 STEM        >20          NaN             NaN            1   \n",
       "1                 STEM         15        50-99         Pvt Ltd           >4   \n",
       "2                 STEM          5          NaN             NaN        never   \n",
       "3      Business Degree         <1          NaN         Pvt Ltd        never   \n",
       "4                 STEM        >20        50-99  Funded Startup            4   \n",
       "...                ...        ...          ...             ...          ...   \n",
       "19153       Humanities         14          NaN             NaN            1   \n",
       "19154             STEM         14          NaN             NaN            4   \n",
       "19155             STEM        >20        50-99         Pvt Ltd            4   \n",
       "19156              NaN         <1      500-999         Pvt Ltd            2   \n",
       "19157              NaN          2          NaN             NaN            1   \n",
       "\n",
       "       training_hours  target  \n",
       "0                  36     1.0  \n",
       "1                  47     0.0  \n",
       "2                  83     0.0  \n",
       "3                  52     1.0  \n",
       "4                   8     0.0  \n",
       "...               ...     ...  \n",
       "19153              42     1.0  \n",
       "19154              52     1.0  \n",
       "19155              44     0.0  \n",
       "19156              97     0.0  \n",
       "19157             127     0.0  \n",
       "\n",
       "[19158 rows x 14 columns]"
      ]
     },
     "execution_count": 385,
     "metadata": {},
     "output_type": "execute_result"
    }
   ],
   "source": [
    "aug_df"
   ]
  },
  {
   "cell_type": "markdown",
   "metadata": {},
   "source": [
    "Tiếp theo, ta xử lý cột Gender với 4 tham số chính: Male, Female, Other và NaN. Nó có thể khá kì cục nếu một người không có giới tính nên ta có thể điền dữ liệu thiếu bằng cách điền giá trị xuất hiện nhiều nhất."
   ]
  },
  {
   "cell_type": "code",
   "execution_count": 386,
   "metadata": {},
   "outputs": [],
   "source": [
    "aug_df['gender']= aug_df['gender'].fillna(aug_df['gender'].mode()[0])"
   ]
  },
  {
   "cell_type": "markdown",
   "metadata": {},
   "source": [
    "Đối với các cột còn lại, ta phải tiếp tục khám phá dữ liệu để có thể quyết định các phương pháp xử lý missing bởi vì nhìn sơ qua thì tỷ lệ missing_ratio khá cao ở các cột phía sau."
   ]
  },
  {
   "cell_type": "markdown",
   "metadata": {},
   "source": [
    "---"
   ]
  },
  {
   "cell_type": "markdown",
   "metadata": {},
   "source": [
    "Các cột \"relevent_experience\", \"enrolled_university\", \"education_level\", \"major_discipline\", \"company_type\" đều có dạng là string. Ta phải check xem tỷ lệ giá trị thiếu của chúng là bao nhiêu trước khi đề ra phương pháp xử lý."
   ]
  },
  {
   "cell_type": "code",
   "execution_count": 387,
   "metadata": {},
   "outputs": [
    {
     "name": "stderr",
     "output_type": "stream",
     "text": [
      "/tmp/ipykernel_10194/4209786658.py:11: VisibleDeprecationWarning:\n",
      "\n",
      "Creating an ndarray from ragged nested sequences (which is a list-or-tuple of lists-or-tuples-or ndarrays with different lengths or shapes) is deprecated. If you meant to do this, you must specify 'dtype=object' when creating the ndarray.\n",
      "\n"
     ]
    },
    {
     "data": {
      "text/html": [
       "<div>\n",
       "<style scoped>\n",
       "    .dataframe tbody tr th:only-of-type {\n",
       "        vertical-align: middle;\n",
       "    }\n",
       "\n",
       "    .dataframe tbody tr th {\n",
       "        vertical-align: top;\n",
       "    }\n",
       "\n",
       "    .dataframe thead th {\n",
       "        text-align: right;\n",
       "    }\n",
       "</style>\n",
       "<table border=\"1\" class=\"dataframe\">\n",
       "  <thead>\n",
       "    <tr style=\"text-align: right;\">\n",
       "      <th></th>\n",
       "      <th>relevent_experience</th>\n",
       "      <th>enrolled_university</th>\n",
       "      <th>education_level</th>\n",
       "      <th>major_discipline</th>\n",
       "      <th>company_type</th>\n",
       "    </tr>\n",
       "  </thead>\n",
       "  <tbody>\n",
       "    <tr>\n",
       "      <th>missing_ratio</th>\n",
       "      <td>0.0</td>\n",
       "      <td>2.014824</td>\n",
       "      <td>2.401086</td>\n",
       "      <td>14.683161</td>\n",
       "      <td>32.049274</td>\n",
       "    </tr>\n",
       "    <tr>\n",
       "      <th>num_diff_vals</th>\n",
       "      <td>2</td>\n",
       "      <td>3</td>\n",
       "      <td>5</td>\n",
       "      <td>6</td>\n",
       "      <td>6</td>\n",
       "    </tr>\n",
       "    <tr>\n",
       "      <th>diff_vals</th>\n",
       "      <td>[Has relevent experience, No relevent experience]</td>\n",
       "      <td>[no_enrollment, Full time course, Part time co...</td>\n",
       "      <td>[Graduate, Masters, High School, Phd, Primary ...</td>\n",
       "      <td>[STEM, Business Degree, Arts, Humanities, No M...</td>\n",
       "      <td>[Pvt Ltd, Funded Startup, Early Stage Startup,...</td>\n",
       "    </tr>\n",
       "  </tbody>\n",
       "</table>\n",
       "</div>"
      ],
      "text/plain": [
       "                                             relevent_experience  \\\n",
       "missing_ratio                                                0.0   \n",
       "num_diff_vals                                                  2   \n",
       "diff_vals      [Has relevent experience, No relevent experience]   \n",
       "\n",
       "                                             enrolled_university  \\\n",
       "missing_ratio                                           2.014824   \n",
       "num_diff_vals                                                  3   \n",
       "diff_vals      [no_enrollment, Full time course, Part time co...   \n",
       "\n",
       "                                                 education_level  \\\n",
       "missing_ratio                                           2.401086   \n",
       "num_diff_vals                                                  5   \n",
       "diff_vals      [Graduate, Masters, High School, Phd, Primary ...   \n",
       "\n",
       "                                                major_discipline  \\\n",
       "missing_ratio                                          14.683161   \n",
       "num_diff_vals                                                  6   \n",
       "diff_vals      [STEM, Business Degree, Arts, Humanities, No M...   \n",
       "\n",
       "                                                    company_type  \n",
       "missing_ratio                                          32.049274  \n",
       "num_diff_vals                                                  6  \n",
       "diff_vals      [Pvt Ltd, Funded Startup, Early Stage Startup,...  "
      ]
     },
     "execution_count": 387,
     "metadata": {},
     "output_type": "execute_result"
    }
   ],
   "source": [
    "categorical_cols = [\"relevent_experience\", \"enrolled_university\", \"education_level\", \"major_discipline\", \"company_type\"]\n",
    "profiles_cols = [\"missing_ratio\",\"num_diff_vals\",\"diff_vals\"]\n",
    "profiles_rows = []\n",
    "\n",
    "for col in categorical_cols:\n",
    "    missing_ratio = aug_df[col].isnull().sum() * 100 / len(aug_df)\n",
    "    diff = aug_df[col].dropna().unique()\n",
    "    num_diff = len(diff)\n",
    "    profiles_rows.append([missing_ratio,num_diff,diff])\n",
    "\n",
    "cate_col_profiles_df = pd.DataFrame(data=np.array(profiles_rows).T,index=profiles_cols,columns=categorical_cols)\n",
    "\n",
    "cate_col_profiles_df"
   ]
  },
  {
   "cell_type": "markdown",
   "metadata": {},
   "source": [
    "Như ta có thể thấy, ngoại trừ cột \"relevent_experience\" ra thì các cột khác đều có tỷ lệ missing.\n",
    "\n",
    "Đáng chú ý là hai cột \"major_discipline\", \"company_type\" có tỷ lệ khá cao, ta sẽ xử lý sau."
   ]
  },
  {
   "cell_type": "markdown",
   "metadata": {},
   "source": [
    "#### Numerical\n",
    "Đối với các cột dữ liệu bị thiếu, sau khi quan sát các giá trị ở trong bảng dữ liệu, chúng em nhận ra ở đây tồn tại hai vấn đề:\n",
    "- Dữ liệu trong các cột bị thiếu không hề đồng nhất. Đúng hơn là ở các cột `numeric` nó có chứa các giá trị như `<1, >4, 1000+, ...`, hay nói đúng hơn là chứa các miền giá trị\n",
    "- Các miền giá trị có cách ghi không đồng nhất (company_size là trường hợp này)\n",
    "Do đó, chúng em quyết định tách các cột này ra thành 2 loại để xử lí: cột không chứa miền giá trị (chỉ chứa các string) và cột chứa số có miền giá trị"
   ]
  },
  {
   "cell_type": "markdown",
   "metadata": {},
   "source": [
    "Các cột \"experience\", \"company_size\", \"last_new_job\", \"training_hours\" có thể xem là cột numerical, nhưng...\n",
    "\n",
    "Nếu ta xem lại phần Khám phá dữ liệu trước thì các cột này hầu hết đều là object bởi vì ngoài int ra thì còn có số dính với các dấu câu, có thể là '>', '<' hoặc '-'.\n",
    "\n",
    "Có nhiều cách để xử lý để hoàn toàn đổi các cột này thành numerical nhưng nhóm em thống nhất cách như sau:\n",
    "+ Đối với dấu '>' hoặc '<' thì ta chỉ cần đổi giới hạn đi cùng thành giá trị + 1. Ví dụ: >20 = 21\n",
    "+ Đối với dấu '-' tức khoảng từ đâu tới đâu, ta sẽ lấy số trung bình giữa hai giới hạn. Ví dụ: 50-99 = 75\n",
    "\n",
    "Trước tiên ta sẽ xem tỷ lệ missing và các giá trị có trong các cột như thế nào."
   ]
  },
  {
   "cell_type": "code",
   "execution_count": 388,
   "metadata": {},
   "outputs": [
    {
     "name": "stderr",
     "output_type": "stream",
     "text": [
      "/tmp/ipykernel_10194/1552378618.py:11: VisibleDeprecationWarning:\n",
      "\n",
      "Creating an ndarray from ragged nested sequences (which is a list-or-tuple of lists-or-tuples-or ndarrays with different lengths or shapes) is deprecated. If you meant to do this, you must specify 'dtype=object' when creating the ndarray.\n",
      "\n"
     ]
    },
    {
     "data": {
      "text/html": [
       "<div>\n",
       "<style scoped>\n",
       "    .dataframe tbody tr th:only-of-type {\n",
       "        vertical-align: middle;\n",
       "    }\n",
       "\n",
       "    .dataframe tbody tr th {\n",
       "        vertical-align: top;\n",
       "    }\n",
       "\n",
       "    .dataframe thead th {\n",
       "        text-align: right;\n",
       "    }\n",
       "</style>\n",
       "<table border=\"1\" class=\"dataframe\">\n",
       "  <thead>\n",
       "    <tr style=\"text-align: right;\">\n",
       "      <th></th>\n",
       "      <th>experience</th>\n",
       "      <th>company_size</th>\n",
       "      <th>last_new_job</th>\n",
       "      <th>training_hours</th>\n",
       "    </tr>\n",
       "  </thead>\n",
       "  <tbody>\n",
       "    <tr>\n",
       "      <th>missing_ratio</th>\n",
       "      <td>0.339284</td>\n",
       "      <td>30.994885</td>\n",
       "      <td>2.207955</td>\n",
       "      <td>0.0</td>\n",
       "    </tr>\n",
       "    <tr>\n",
       "      <th>num_diff_vals</th>\n",
       "      <td>22</td>\n",
       "      <td>8</td>\n",
       "      <td>6</td>\n",
       "      <td>241</td>\n",
       "    </tr>\n",
       "    <tr>\n",
       "      <th>diff_vals</th>\n",
       "      <td>[&gt;20, 15, 5, &lt;1, 11, 13, 7, 17, 2, 16, 1, 4, 1...</td>\n",
       "      <td>[50-99, &lt;10, 10000+, 5000-9999, 1000-4999, 10/...</td>\n",
       "      <td>[1, &gt;4, never, 4, 3, 2]</td>\n",
       "      <td>[36, 47, 83, 52, 8, 24, 18, 46, 123, 32, 108, ...</td>\n",
       "    </tr>\n",
       "  </tbody>\n",
       "</table>\n",
       "</div>"
      ],
      "text/plain": [
       "                                                      experience  \\\n",
       "missing_ratio                                           0.339284   \n",
       "num_diff_vals                                                 22   \n",
       "diff_vals      [>20, 15, 5, <1, 11, 13, 7, 17, 2, 16, 1, 4, 1...   \n",
       "\n",
       "                                                    company_size  \\\n",
       "missing_ratio                                          30.994885   \n",
       "num_diff_vals                                                  8   \n",
       "diff_vals      [50-99, <10, 10000+, 5000-9999, 1000-4999, 10/...   \n",
       "\n",
       "                          last_new_job  \\\n",
       "missing_ratio                 2.207955   \n",
       "num_diff_vals                        6   \n",
       "diff_vals      [1, >4, never, 4, 3, 2]   \n",
       "\n",
       "                                                  training_hours  \n",
       "missing_ratio                                                0.0  \n",
       "num_diff_vals                                                241  \n",
       "diff_vals      [36, 47, 83, 52, 8, 24, 18, 46, 123, 32, 108, ...  "
      ]
     },
     "execution_count": 388,
     "metadata": {},
     "output_type": "execute_result"
    }
   ],
   "source": [
    "numerical_cols = [\"experience\", \"company_size\", \"last_new_job\", \"training_hours\"]\n",
    "profiles_cols = [\"missing_ratio\",\"num_diff_vals\",\"diff_vals\"]\n",
    "profiles_rows = []\n",
    "\n",
    "for col in numerical_cols:\n",
    "    missing_ratio = aug_df[col].isnull().sum() * 100 / len(aug_df)\n",
    "    diff = aug_df[col].dropna().unique()\n",
    "    num_diff = len(diff)\n",
    "    profiles_rows.append([missing_ratio,num_diff,diff])\n",
    "\n",
    "num_col_profiles_df = pd.DataFrame(data=np.array(profiles_rows).T,index=profiles_cols,columns=numerical_cols)\n",
    "\n",
    "num_col_profiles_df"
   ]
  },
  {
   "cell_type": "markdown",
   "metadata": {},
   "source": [
    "Cột \"company_size\" có tới 31% tỷ lệ thiếu, khá cao tượng tự như hai cột bên categorical là \"major_discipline\", \"company_type\".\n",
    "\n",
    "Nếu để ý thì các cột có giá trị thiếu đều liên quan tới việc tốt nghiệp và làm việc của các thí sinh."
   ]
  },
  {
   "cell_type": "markdown",
   "metadata": {},
   "source": [
    "### Tiền xử lý (tiếp tục)"
   ]
  },
  {
   "cell_type": "markdown",
   "metadata": {},
   "source": [
    "#### Xử lý số"
   ]
  },
  {
   "cell_type": "markdown",
   "metadata": {},
   "source": [
    "Đầu tiên ta phải tiền xử lý các cột numerical trước khi khám phá sâu hơn về dữ liệu. Bởi vì cột training hours đều là số nguyên nên không cần thiết phải xử lý, ta chỉ cần để ý 3 cột còn lại."
   ]
  },
  {
   "cell_type": "code",
   "execution_count": 389,
   "metadata": {},
   "outputs": [],
   "source": [
    "numerical_cols = [\"experience\", \"company_size\", \"last_new_job\"]\n",
    "\n",
    "def preprocessing_delimiter(value):\n",
    "    if type(value) is str:\n",
    "        if \">\" in value:\n",
    "            value = int(value.replace(\">\",\"\")) + 1\n",
    "        elif \"<\" in value:\n",
    "            value = int(value.replace(\"<\",\"\")) - 1\n",
    "        elif \"+\" in value:\n",
    "            value = int(value.replace(\"+\",\"\"))\n",
    "        elif \"-\" in value:\n",
    "            value_split = value.split(\"-\")\n",
    "            value_split = [int(i) for i in value_split]\n",
    "            value = round((value_split[0] + value_split[1]) / 2,0)\n",
    "        elif \"/\" in value:\n",
    "            value_split = value.split(\"/\")\n",
    "            value_split = [int(i) for i in value_split]\n",
    "            value = round((value_split[0] + value_split[1]) / 2,0)\n",
    "        elif \"never\" in value:\n",
    "            value = 0\n",
    "    return value\n",
    "\n",
    "\n",
    "for col in numerical_cols:\n",
    "    aug_df[col] = pd.to_numeric(aug_df[col].apply(preprocessing_delimiter))"
   ]
  },
  {
   "cell_type": "markdown",
   "metadata": {},
   "source": [
    "##### Xử lý missing value"
   ]
  },
  {
   "cell_type": "markdown",
   "metadata": {},
   "source": [
    "Dựa theo ý kiến của nhóm em, các cột có tỷ lệ missing thấp sẽ được điền các giá trị thiếu còn những cột có tỷ lệ cao sẽ giữ nguyên bởi vì xử lý missing quá nhiều có thể làm dữ liệu bị noisy và sai lệch khá nhiều so với thực tế. Vậy ta sẽ xử lý các cột \"enrolled_university\", \"education_level\", \"experience\" và \"last_new_job\".\n",
    "\n",
    "Ta sẽ xử lý các cột này theo phương pháp truyền thống, với các cột categorical sẽ điền mode và numerical sẽ điền mean."
   ]
  },
  {
   "cell_type": "code",
   "execution_count": 390,
   "metadata": {},
   "outputs": [],
   "source": [
    "cate_missing_process_cols = [\"enrolled_university\",\"education_level\"]\n",
    "num_missing_process_cols = [\"experience\",\"last_new_job\"]\n",
    "\n",
    "for col in cate_missing_process_cols:\n",
    "    aug_df[col] = aug_df[col].fillna(aug_df[col].mode()[0])\n",
    "\n",
    "for col in num_missing_process_cols:\n",
    "    aug_df[col] = aug_df[col].fillna(round(aug_df[col].mean(),0))"
   ]
  },
  {
   "cell_type": "code",
   "execution_count": 391,
   "metadata": {},
   "outputs": [
    {
     "data": {
      "text/html": [
       "<div>\n",
       "<style scoped>\n",
       "    .dataframe tbody tr th:only-of-type {\n",
       "        vertical-align: middle;\n",
       "    }\n",
       "\n",
       "    .dataframe tbody tr th {\n",
       "        vertical-align: top;\n",
       "    }\n",
       "\n",
       "    .dataframe thead th {\n",
       "        text-align: right;\n",
       "    }\n",
       "</style>\n",
       "<table border=\"1\" class=\"dataframe\">\n",
       "  <thead>\n",
       "    <tr style=\"text-align: right;\">\n",
       "      <th></th>\n",
       "      <th>enrollee_id</th>\n",
       "      <th>city</th>\n",
       "      <th>city_development_index</th>\n",
       "      <th>gender</th>\n",
       "      <th>relevent_experience</th>\n",
       "      <th>enrolled_university</th>\n",
       "      <th>education_level</th>\n",
       "      <th>major_discipline</th>\n",
       "      <th>experience</th>\n",
       "      <th>company_size</th>\n",
       "      <th>company_type</th>\n",
       "      <th>last_new_job</th>\n",
       "      <th>training_hours</th>\n",
       "      <th>target</th>\n",
       "    </tr>\n",
       "  </thead>\n",
       "  <tbody>\n",
       "    <tr>\n",
       "      <th>0</th>\n",
       "      <td>8949</td>\n",
       "      <td>103</td>\n",
       "      <td>0.920</td>\n",
       "      <td>Male</td>\n",
       "      <td>Has relevent experience</td>\n",
       "      <td>no_enrollment</td>\n",
       "      <td>Graduate</td>\n",
       "      <td>STEM</td>\n",
       "      <td>21.0</td>\n",
       "      <td>NaN</td>\n",
       "      <td>NaN</td>\n",
       "      <td>1.0</td>\n",
       "      <td>36</td>\n",
       "      <td>1.0</td>\n",
       "    </tr>\n",
       "    <tr>\n",
       "      <th>1</th>\n",
       "      <td>29725</td>\n",
       "      <td>40</td>\n",
       "      <td>0.776</td>\n",
       "      <td>Male</td>\n",
       "      <td>No relevent experience</td>\n",
       "      <td>no_enrollment</td>\n",
       "      <td>Graduate</td>\n",
       "      <td>STEM</td>\n",
       "      <td>15.0</td>\n",
       "      <td>74.0</td>\n",
       "      <td>Pvt Ltd</td>\n",
       "      <td>5.0</td>\n",
       "      <td>47</td>\n",
       "      <td>0.0</td>\n",
       "    </tr>\n",
       "    <tr>\n",
       "      <th>2</th>\n",
       "      <td>11561</td>\n",
       "      <td>21</td>\n",
       "      <td>0.624</td>\n",
       "      <td>Male</td>\n",
       "      <td>No relevent experience</td>\n",
       "      <td>Full time course</td>\n",
       "      <td>Graduate</td>\n",
       "      <td>STEM</td>\n",
       "      <td>5.0</td>\n",
       "      <td>NaN</td>\n",
       "      <td>NaN</td>\n",
       "      <td>0.0</td>\n",
       "      <td>83</td>\n",
       "      <td>0.0</td>\n",
       "    </tr>\n",
       "    <tr>\n",
       "      <th>3</th>\n",
       "      <td>33241</td>\n",
       "      <td>115</td>\n",
       "      <td>0.789</td>\n",
       "      <td>Male</td>\n",
       "      <td>No relevent experience</td>\n",
       "      <td>no_enrollment</td>\n",
       "      <td>Graduate</td>\n",
       "      <td>Business Degree</td>\n",
       "      <td>0.0</td>\n",
       "      <td>NaN</td>\n",
       "      <td>Pvt Ltd</td>\n",
       "      <td>0.0</td>\n",
       "      <td>52</td>\n",
       "      <td>1.0</td>\n",
       "    </tr>\n",
       "    <tr>\n",
       "      <th>4</th>\n",
       "      <td>666</td>\n",
       "      <td>162</td>\n",
       "      <td>0.767</td>\n",
       "      <td>Male</td>\n",
       "      <td>Has relevent experience</td>\n",
       "      <td>no_enrollment</td>\n",
       "      <td>Masters</td>\n",
       "      <td>STEM</td>\n",
       "      <td>21.0</td>\n",
       "      <td>74.0</td>\n",
       "      <td>Funded Startup</td>\n",
       "      <td>4.0</td>\n",
       "      <td>8</td>\n",
       "      <td>0.0</td>\n",
       "    </tr>\n",
       "    <tr>\n",
       "      <th>...</th>\n",
       "      <td>...</td>\n",
       "      <td>...</td>\n",
       "      <td>...</td>\n",
       "      <td>...</td>\n",
       "      <td>...</td>\n",
       "      <td>...</td>\n",
       "      <td>...</td>\n",
       "      <td>...</td>\n",
       "      <td>...</td>\n",
       "      <td>...</td>\n",
       "      <td>...</td>\n",
       "      <td>...</td>\n",
       "      <td>...</td>\n",
       "      <td>...</td>\n",
       "    </tr>\n",
       "    <tr>\n",
       "      <th>19153</th>\n",
       "      <td>7386</td>\n",
       "      <td>173</td>\n",
       "      <td>0.878</td>\n",
       "      <td>Male</td>\n",
       "      <td>No relevent experience</td>\n",
       "      <td>no_enrollment</td>\n",
       "      <td>Graduate</td>\n",
       "      <td>Humanities</td>\n",
       "      <td>14.0</td>\n",
       "      <td>NaN</td>\n",
       "      <td>NaN</td>\n",
       "      <td>1.0</td>\n",
       "      <td>42</td>\n",
       "      <td>1.0</td>\n",
       "    </tr>\n",
       "    <tr>\n",
       "      <th>19154</th>\n",
       "      <td>31398</td>\n",
       "      <td>103</td>\n",
       "      <td>0.920</td>\n",
       "      <td>Male</td>\n",
       "      <td>Has relevent experience</td>\n",
       "      <td>no_enrollment</td>\n",
       "      <td>Graduate</td>\n",
       "      <td>STEM</td>\n",
       "      <td>14.0</td>\n",
       "      <td>NaN</td>\n",
       "      <td>NaN</td>\n",
       "      <td>4.0</td>\n",
       "      <td>52</td>\n",
       "      <td>1.0</td>\n",
       "    </tr>\n",
       "    <tr>\n",
       "      <th>19155</th>\n",
       "      <td>24576</td>\n",
       "      <td>103</td>\n",
       "      <td>0.920</td>\n",
       "      <td>Male</td>\n",
       "      <td>Has relevent experience</td>\n",
       "      <td>no_enrollment</td>\n",
       "      <td>Graduate</td>\n",
       "      <td>STEM</td>\n",
       "      <td>21.0</td>\n",
       "      <td>74.0</td>\n",
       "      <td>Pvt Ltd</td>\n",
       "      <td>4.0</td>\n",
       "      <td>44</td>\n",
       "      <td>0.0</td>\n",
       "    </tr>\n",
       "    <tr>\n",
       "      <th>19156</th>\n",
       "      <td>5756</td>\n",
       "      <td>65</td>\n",
       "      <td>0.802</td>\n",
       "      <td>Male</td>\n",
       "      <td>Has relevent experience</td>\n",
       "      <td>no_enrollment</td>\n",
       "      <td>High School</td>\n",
       "      <td>NaN</td>\n",
       "      <td>0.0</td>\n",
       "      <td>750.0</td>\n",
       "      <td>Pvt Ltd</td>\n",
       "      <td>2.0</td>\n",
       "      <td>97</td>\n",
       "      <td>0.0</td>\n",
       "    </tr>\n",
       "    <tr>\n",
       "      <th>19157</th>\n",
       "      <td>23834</td>\n",
       "      <td>67</td>\n",
       "      <td>0.855</td>\n",
       "      <td>Male</td>\n",
       "      <td>No relevent experience</td>\n",
       "      <td>no_enrollment</td>\n",
       "      <td>Primary School</td>\n",
       "      <td>NaN</td>\n",
       "      <td>2.0</td>\n",
       "      <td>NaN</td>\n",
       "      <td>NaN</td>\n",
       "      <td>1.0</td>\n",
       "      <td>127</td>\n",
       "      <td>0.0</td>\n",
       "    </tr>\n",
       "  </tbody>\n",
       "</table>\n",
       "<p>19158 rows × 14 columns</p>\n",
       "</div>"
      ],
      "text/plain": [
       "       enrollee_id  city  city_development_index gender  \\\n",
       "0             8949   103                   0.920   Male   \n",
       "1            29725    40                   0.776   Male   \n",
       "2            11561    21                   0.624   Male   \n",
       "3            33241   115                   0.789   Male   \n",
       "4              666   162                   0.767   Male   \n",
       "...            ...   ...                     ...    ...   \n",
       "19153         7386   173                   0.878   Male   \n",
       "19154        31398   103                   0.920   Male   \n",
       "19155        24576   103                   0.920   Male   \n",
       "19156         5756    65                   0.802   Male   \n",
       "19157        23834    67                   0.855   Male   \n",
       "\n",
       "           relevent_experience enrolled_university education_level  \\\n",
       "0      Has relevent experience       no_enrollment        Graduate   \n",
       "1       No relevent experience       no_enrollment        Graduate   \n",
       "2       No relevent experience    Full time course        Graduate   \n",
       "3       No relevent experience       no_enrollment        Graduate   \n",
       "4      Has relevent experience       no_enrollment         Masters   \n",
       "...                        ...                 ...             ...   \n",
       "19153   No relevent experience       no_enrollment        Graduate   \n",
       "19154  Has relevent experience       no_enrollment        Graduate   \n",
       "19155  Has relevent experience       no_enrollment        Graduate   \n",
       "19156  Has relevent experience       no_enrollment     High School   \n",
       "19157   No relevent experience       no_enrollment  Primary School   \n",
       "\n",
       "      major_discipline  experience  company_size    company_type  \\\n",
       "0                 STEM        21.0           NaN             NaN   \n",
       "1                 STEM        15.0          74.0         Pvt Ltd   \n",
       "2                 STEM         5.0           NaN             NaN   \n",
       "3      Business Degree         0.0           NaN         Pvt Ltd   \n",
       "4                 STEM        21.0          74.0  Funded Startup   \n",
       "...                ...         ...           ...             ...   \n",
       "19153       Humanities        14.0           NaN             NaN   \n",
       "19154             STEM        14.0           NaN             NaN   \n",
       "19155             STEM        21.0          74.0         Pvt Ltd   \n",
       "19156              NaN         0.0         750.0         Pvt Ltd   \n",
       "19157              NaN         2.0           NaN             NaN   \n",
       "\n",
       "       last_new_job  training_hours  target  \n",
       "0               1.0              36     1.0  \n",
       "1               5.0              47     0.0  \n",
       "2               0.0              83     0.0  \n",
       "3               0.0              52     1.0  \n",
       "4               4.0               8     0.0  \n",
       "...             ...             ...     ...  \n",
       "19153           1.0              42     1.0  \n",
       "19154           4.0              52     1.0  \n",
       "19155           4.0              44     0.0  \n",
       "19156           2.0              97     0.0  \n",
       "19157           1.0             127     0.0  \n",
       "\n",
       "[19158 rows x 14 columns]"
      ]
     },
     "execution_count": 391,
     "metadata": {},
     "output_type": "execute_result"
    }
   ],
   "source": [
    "aug_df"
   ]
  },
  {
   "cell_type": "markdown",
   "metadata": {},
   "source": [
    "### Câu hỏi\n",
    "Như phần description có mô tả, target là cột cho biết là ứng viên nào thực sự muốn là việc cho công ty của họ, với `0 – Not looking for job change`, `1 – Looking for a job change`. Do vậy, mục tiêu của chúng ta là cột target này. Cụ thể chúng ta sẽ phân tích những cột còn lại có tác động như thế nào tới cột này.\n",
    "Trước hết, việc cần làm là phân loại các cột này ra. Tại sao phải làm thế, và làm như thế nào?\n",
    "- Việc phân loại các cột sẽ cho chúng ta một cái nhìn cụ thể hơn về tính chất của từng cột, từ đó đưa ra được những kết luận cho câu hỏi một cách chính xác hơn.\n",
    "- Sau khi thảo luận, các cột được chia làm 3 nhóm: Giáo dục, môi trường làm việc và yếu tố cá nhân khác. Cụ thể như sau:\n",
    "    - Giáo dục:\n",
    "        - `enrolled_university`: Hình thức học đại học của ứng viên.\n",
    "        - `education_level`: Trình độ học vấn.\n",
    "        - `major_discipline`: Ngành học của ứng viên.\n",
    "    - Môi trường làm việc:\n",
    "        - `city/city_development_index`: Mã thành phố và chỉ số phát triển tương ứng.\n",
    "        - `company_size`: Số lượng nhân viên hiện có trong công ty của ứng viên.\n",
    "        - `company_type`: Loại công ty hiện tại của ứng viên\n",
    "    - Yếu tô cá nhân khác:\n",
    "        - `gender`: Giới tính.\n",
    "        - `experience`: Kinh nghiệm nói chung của ứng viên, bao gồm kinh nghiệm các công việc không liên quan.\n",
    "        - `relevent_experience`: Kinh nghiệm trong ngành của ứng viên.\n",
    "        - `lastnewjob`: Khoảng thời gian kể từ lần nhảy việc cuối cùng so với hiện tại.\n",
    "        - `training_hours`: Số giờ đào tạo mà ứng viên đã hoàn thành. Việc đào tạo ở đây được thực hiện bởi công ty đang tiến hành khảo sát.\n",
    "Vì các yếu tố cá nhân liên quan trực tiếp tới ứng viên, nên câu hỏi đặt ra ở đây sẽ tập trung vào yếu tố giáo dục và môi trường làm việc. Các yếu tố cá nhân sẽ được kết hợp trong quá trình phân tích để đưa ra kết luận (thậm chí kết hợp cả giáo dục và môi trường làm việc nếu có sự liên hệ nào đó).\n",
    "1. Các yếu tố giáo dục có ảnh hưởng đến cột target hay không? Nếu có thì ảnh hưởng như thế nào?\n",
    "2. Các yếu tố môi trường làm việc có ảnh hưởng đến cột target hay không? Nếu có thì ảnh hưởng như thế nào?\n"
   ]
  },
  {
   "cell_type": "markdown",
   "metadata": {},
   "source": [
    "### Trả lời câu hỏi"
   ]
  },
  {
   "cell_type": "markdown",
   "metadata": {},
   "source": [
    "Trước hết, chúng ta hãy xét xem mỗi cột ở đây gồm những giá trị gì, và tỉ lệ giữa các giá trị đó thể hiện như thế nào"
   ]
  },
  {
   "cell_type": "markdown",
   "metadata": {},
   "source": [
    "##### `enrolled_university`"
   ]
  },
  {
   "cell_type": "code",
   "execution_count": 392,
   "metadata": {},
   "outputs": [
    {
     "data": {
      "text/plain": [
       "<AxesSubplot:>"
      ]
     },
     "execution_count": 392,
     "metadata": {},
     "output_type": "execute_result"
    },
    {
     "data": {
      "image/png": "[encoded data removed]",
      "text/plain": [
       "<Figure size 432x288 with 1 Axes>"
      ]
     },
     "metadata": {
      "needs_background": "light"
     },
     "output_type": "display_data"
    }
   ],
   "source": [
    "aug_df.enrolled_university.value_counts(normalize=True).plot(kind=\"barh\")"
   ]
  },
  {
   "cell_type": "markdown",
   "metadata": {},
   "source": [
    "##### `education_level`"
   ]
  },
  {
   "cell_type": "code",
   "execution_count": 393,
   "metadata": {},
   "outputs": [
    {
     "data": {
      "text/plain": [
       "<AxesSubplot:>"
      ]
     },
     "execution_count": 393,
     "metadata": {},
     "output_type": "execute_result"
    },
    {
     "data": {
      "image/png": "[encoded data removed]",
      "text/plain": [
       "<Figure size 432x288 with 1 Axes>"
      ]
     },
     "metadata": {
      "needs_background": "light"
     },
     "output_type": "display_data"
    }
   ],
   "source": [
    "aug_df.education_level.value_counts(normalize=True).plot(kind=\"barh\")"
   ]
  },
  {
   "cell_type": "markdown",
   "metadata": {},
   "source": [
    "##### `major_discipline`"
   ]
  },
  {
   "cell_type": "code",
   "execution_count": 394,
   "metadata": {},
   "outputs": [
    {
     "data": {
      "text/plain": [
       "<AxesSubplot:>"
      ]
     },
     "execution_count": 394,
     "metadata": {},
     "output_type": "execute_result"
    },
    {
     "data": {
      "image/png": "[encoded data removed]",
      "text/plain": [
       "<Figure size 432x288 with 1 Axes>"
      ]
     },
     "metadata": {
      "needs_background": "light"
     },
     "output_type": "display_data"
    }
   ],
   "source": [
    "aug_df.major_discipline.value_counts(normalize=True).plot(kind=\"barh\")"
   ]
  },
  {
   "cell_type": "markdown",
   "metadata": {},
   "source": [
    "##### `gender`"
   ]
  },
  {
   "cell_type": "code",
   "execution_count": 395,
   "metadata": {},
   "outputs": [
    {
     "data": {
      "text/plain": [
       "<AxesSubplot:>"
      ]
     },
     "execution_count": 395,
     "metadata": {},
     "output_type": "execute_result"
    },
    {
     "data": {
      "image/png": "[encoded data removed]",
      "text/plain": [
       "<Figure size 432x288 with 1 Axes>"
      ]
     },
     "metadata": {
      "needs_background": "light"
     },
     "output_type": "display_data"
    }
   ],
   "source": [
    "aug_df.gender.value_counts(normalize=True).plot(kind=\"barh\")"
   ]
  },
  {
   "cell_type": "markdown",
   "metadata": {},
   "source": [
    "##### `experience`"
   ]
  },
  {
   "cell_type": "code",
   "execution_count": 396,
   "metadata": {},
   "outputs": [
    {
     "data": {
      "text/plain": [
       "<AxesSubplot:>"
      ]
     },
     "execution_count": 396,
     "metadata": {},
     "output_type": "execute_result"
    },
    {
     "data": {
      "image/png": "[encoded data removed]",
      "text/plain": [
       "<Figure size 432x288 with 1 Axes>"
      ]
     },
     "metadata": {
      "needs_background": "light"
     },
     "output_type": "display_data"
    }
   ],
   "source": [
    "aug_df.experience.value_counts(normalize=True).plot(kind=\"barh\")"
   ]
  },
  {
   "cell_type": "markdown",
   "metadata": {},
   "source": [
    "##### `relevent_experience`"
   ]
  },
  {
   "cell_type": "code",
   "execution_count": 397,
   "metadata": {},
   "outputs": [
    {
     "data": {
      "text/plain": [
       "<AxesSubplot:>"
      ]
     },
     "execution_count": 397,
     "metadata": {},
     "output_type": "execute_result"
    },
    {
     "data": {
      "image/png": "[encoded data removed]",
      "text/plain": [
       "<Figure size 432x288 with 1 Axes>"
      ]
     },
     "metadata": {
      "needs_background": "light"
     },
     "output_type": "display_data"
    }
   ],
   "source": [
    "aug_df.relevent_experience.value_counts(normalize=True).plot(kind=\"barh\")"
   ]
  },
  {
   "cell_type": "markdown",
   "metadata": {},
   "source": [
    "##### `last_new_job`"
   ]
  },
  {
   "cell_type": "code",
   "execution_count": 398,
   "metadata": {},
   "outputs": [
    {
     "data": {
      "text/plain": [
       "<AxesSubplot:>"
      ]
     },
     "execution_count": 398,
     "metadata": {},
     "output_type": "execute_result"
    },
    {
     "data": {
      "image/png": "[encoded data removed]",
      "text/plain": [
       "<Figure size 432x288 with 1 Axes>"
      ]
     },
     "metadata": {
      "needs_background": "light"
     },
     "output_type": "display_data"
    }
   ],
   "source": [
    "aug_df.last_new_job.value_counts(normalize=True).plot(kind=\"barh\")"
   ]
  },
  {
   "cell_type": "markdown",
   "metadata": {},
   "source": [
    "#### Ảnh hưởng của các yếu tố giáo dục\n",
    "- Ta sẽ bắt đầu với những tác động đơn giản, cụ thể là tác động của từng cột lên target"
   ]
  },
  {
   "cell_type": "markdown",
   "metadata": {},
   "source": [
    "##### Enrolled_university"
   ]
  },
  {
   "cell_type": "code",
   "execution_count": 399,
   "metadata": {},
   "outputs": [
    {
     "data": {
      "text/html": [
       "<div>\n",
       "<style scoped>\n",
       "    .dataframe tbody tr th:only-of-type {\n",
       "        vertical-align: middle;\n",
       "    }\n",
       "\n",
       "    .dataframe tbody tr th {\n",
       "        vertical-align: top;\n",
       "    }\n",
       "\n",
       "    .dataframe thead th {\n",
       "        text-align: right;\n",
       "    }\n",
       "</style>\n",
       "<table border=\"1\" class=\"dataframe\">\n",
       "  <thead>\n",
       "    <tr style=\"text-align: right;\">\n",
       "      <th>target</th>\n",
       "      <th>enrolled_university</th>\n",
       "      <th>0.0</th>\n",
       "      <th>1.0</th>\n",
       "    </tr>\n",
       "  </thead>\n",
       "  <tbody>\n",
       "    <tr>\n",
       "      <th>0</th>\n",
       "      <td>Full time course</td>\n",
       "      <td>2326</td>\n",
       "      <td>1431</td>\n",
       "    </tr>\n",
       "    <tr>\n",
       "      <th>1</th>\n",
       "      <td>Part time course</td>\n",
       "      <td>896</td>\n",
       "      <td>302</td>\n",
       "    </tr>\n",
       "    <tr>\n",
       "      <th>2</th>\n",
       "      <td>no_enrollment</td>\n",
       "      <td>11159</td>\n",
       "      <td>3044</td>\n",
       "    </tr>\n",
       "  </tbody>\n",
       "</table>\n",
       "</div>"
      ],
      "text/plain": [
       "target enrolled_university    0.0   1.0\n",
       "0         Full time course   2326  1431\n",
       "1         Part time course    896   302\n",
       "2            no_enrollment  11159  3044"
      ]
     },
     "execution_count": 399,
     "metadata": {},
     "output_type": "execute_result"
    }
   ],
   "source": [
    "plot_df = aug_df.pivot_table(index = ['enrolled_university'], columns = 'target', \n",
    "               aggfunc='size', fill_value=0).reset_index()\n",
    "plot_df"
   ]
  },
  {
   "cell_type": "code",
   "execution_count": 400,
   "metadata": {},
   "outputs": [
    {
     "data": {
      "image/png": "[encoded data removed]",
      "text/plain": [
       "<Figure size 432x288 with 1 Axes>"
      ]
     },
     "metadata": {
      "needs_background": "light"
     },
     "output_type": "display_data"
    }
   ],
   "source": [
    "ax = plot_df.plot.bar(stacked=True)"
   ]
  },
  {
   "cell_type": "markdown",
   "metadata": {},
   "source": [
    "Nhìn vào số liệu kể trên thì có vẻ như là những ứng viên thuộc nhóm `no_enrollment` quyết định làm cho công ty là đông nhất - 3044.\n",
    "\n",
    "Tuy nhiên, khi xét trên tổng thể dữ liệu và nhìn vào biểu đồ, các ứng viên thuộc nhóm này là có tỉ lệ không chọn đi làm đông nhất. Còn với nhóm tham gia `full time course` thì lại có tỉ lệ chọn đi làm khá cao.\n",
    "\n",
    "Để dễ quan sát hơn một tí nữa, ta sẽ chia nó thành tỉ lệ % và biểu diễn tương tự bằng stack barchart"
   ]
  },
  {
   "cell_type": "code",
   "execution_count": 401,
   "metadata": {},
   "outputs": [
    {
     "data": {
      "text/html": [
       "<div>\n",
       "<style scoped>\n",
       "    .dataframe tbody tr th:only-of-type {\n",
       "        vertical-align: middle;\n",
       "    }\n",
       "\n",
       "    .dataframe tbody tr th {\n",
       "        vertical-align: top;\n",
       "    }\n",
       "\n",
       "    .dataframe thead th {\n",
       "        text-align: right;\n",
       "    }\n",
       "</style>\n",
       "<table border=\"1\" class=\"dataframe\">\n",
       "  <thead>\n",
       "    <tr style=\"text-align: right;\">\n",
       "      <th>target</th>\n",
       "      <th>enrolled_university</th>\n",
       "      <th>0.0</th>\n",
       "      <th>1.0</th>\n",
       "    </tr>\n",
       "  </thead>\n",
       "  <tbody>\n",
       "    <tr>\n",
       "      <th>0</th>\n",
       "      <td>Full time course</td>\n",
       "      <td>61.911099</td>\n",
       "      <td>38.088901</td>\n",
       "    </tr>\n",
       "    <tr>\n",
       "      <th>1</th>\n",
       "      <td>Part time course</td>\n",
       "      <td>74.791319</td>\n",
       "      <td>25.208681</td>\n",
       "    </tr>\n",
       "    <tr>\n",
       "      <th>2</th>\n",
       "      <td>no_enrollment</td>\n",
       "      <td>78.567908</td>\n",
       "      <td>21.432092</td>\n",
       "    </tr>\n",
       "  </tbody>\n",
       "</table>\n",
       "</div>"
      ],
      "text/plain": [
       "target enrolled_university        0.0        1.0\n",
       "0         Full time course  61.911099  38.088901\n",
       "1         Part time course  74.791319  25.208681\n",
       "2            no_enrollment  78.567908  21.432092"
      ]
     },
     "execution_count": 401,
     "metadata": {},
     "output_type": "execute_result"
    }
   ],
   "source": [
    "def percentage_change(col1,col2):\n",
    "    return (col1 / (col1+col2)) * 100\n",
    "plot_pctg = plot_df.copy()\n",
    "plot_pctg[1.0] = percentage_change(plot_df[1.0], plot_df[0.0])\n",
    "plot_pctg[0.0] = percentage_change(plot_df[0.0], plot_df[1.0])\n",
    "plot_pctg"
   ]
  },
  {
   "cell_type": "code",
   "execution_count": 402,
   "metadata": {},
   "outputs": [
    {
     "data": {
      "text/plain": [
       "<matplotlib.legend.Legend at 0x7f7432057580>"
      ]
     },
     "execution_count": 402,
     "metadata": {},
     "output_type": "execute_result"
    },
    {
     "data": {
      "image/png": "[encoded data removed]",
      "text/plain": [
       "<Figure size 432x288 with 1 Axes>"
      ]
     },
     "metadata": {
      "needs_background": "light"
     },
     "output_type": "display_data"
    }
   ],
   "source": [
    "ax = plot_pctg.plot.barh(stacked=True)\n",
    "plt.legend(bbox_to_anchor=(1.0, 1.0))"
   ]
  },
  {
   "cell_type": "markdown",
   "metadata": {},
   "source": [
    "Có vẻ đúng như những gì đã kết luận ở trên, tỉ lệ ứng viên không chọn làm việc ở nhóm `no_enrollment` là không quá nhiều. Về phía nhóm những người tham gia khóa học `full time` thì tỉ lệ cao hơn, chiếm gần 40%"
   ]
  },
  {
   "cell_type": "markdown",
   "metadata": {},
   "source": [
    "##### Education_level"
   ]
  },
  {
   "cell_type": "code",
   "execution_count": 403,
   "metadata": {},
   "outputs": [
    {
     "data": {
      "text/html": [
       "<div>\n",
       "<style scoped>\n",
       "    .dataframe tbody tr th:only-of-type {\n",
       "        vertical-align: middle;\n",
       "    }\n",
       "\n",
       "    .dataframe tbody tr th {\n",
       "        vertical-align: top;\n",
       "    }\n",
       "\n",
       "    .dataframe thead th {\n",
       "        text-align: right;\n",
       "    }\n",
       "</style>\n",
       "<table border=\"1\" class=\"dataframe\">\n",
       "  <thead>\n",
       "    <tr style=\"text-align: right;\">\n",
       "      <th>target</th>\n",
       "      <th>education_level</th>\n",
       "      <th>0.0</th>\n",
       "      <th>1.0</th>\n",
       "    </tr>\n",
       "  </thead>\n",
       "  <tbody>\n",
       "    <tr>\n",
       "      <th>0</th>\n",
       "      <td>Graduate</td>\n",
       "      <td>8709</td>\n",
       "      <td>3349</td>\n",
       "    </tr>\n",
       "    <tr>\n",
       "      <th>1</th>\n",
       "      <td>High School</td>\n",
       "      <td>1623</td>\n",
       "      <td>394</td>\n",
       "    </tr>\n",
       "    <tr>\n",
       "      <th>2</th>\n",
       "      <td>Masters</td>\n",
       "      <td>3426</td>\n",
       "      <td>935</td>\n",
       "    </tr>\n",
       "    <tr>\n",
       "      <th>3</th>\n",
       "      <td>Phd</td>\n",
       "      <td>356</td>\n",
       "      <td>58</td>\n",
       "    </tr>\n",
       "    <tr>\n",
       "      <th>4</th>\n",
       "      <td>Primary School</td>\n",
       "      <td>267</td>\n",
       "      <td>41</td>\n",
       "    </tr>\n",
       "  </tbody>\n",
       "</table>\n",
       "</div>"
      ],
      "text/plain": [
       "target education_level   0.0   1.0\n",
       "0             Graduate  8709  3349\n",
       "1          High School  1623   394\n",
       "2              Masters  3426   935\n",
       "3                  Phd   356    58\n",
       "4       Primary School   267    41"
      ]
     },
     "execution_count": 403,
     "metadata": {},
     "output_type": "execute_result"
    }
   ],
   "source": [
    "plot_df = aug_df.pivot_table(index = ['education_level'], columns = 'target', \n",
    "               aggfunc='size', fill_value=0).reset_index()\n",
    "plot_df"
   ]
  },
  {
   "cell_type": "code",
   "execution_count": 404,
   "metadata": {},
   "outputs": [
    {
     "data": {
      "text/plain": [
       "<matplotlib.legend.Legend at 0x7f7431fd5fd0>"
      ]
     },
     "execution_count": 404,
     "metadata": {},
     "output_type": "execute_result"
    },
    {
     "data": {
      "image/png": "[encoded data removed]",
      "text/plain": [
       "<Figure size 432x288 with 1 Axes>"
      ]
     },
     "metadata": {
      "needs_background": "light"
     },
     "output_type": "display_data"
    }
   ],
   "source": [
    "ax = plot_df.plot.bar()\n",
    "plt.legend(bbox_to_anchor=(1.0, 1.0))"
   ]
  },
  {
   "cell_type": "markdown",
   "metadata": {},
   "source": [
    "Đối với education level, có thể thấy được hầu hết các ứng viên đều nằm trong nhóm `Graduate`. Đây cũng là nhóm có tỉ lệ ứng viên chọn đi làm cao nhất."
   ]
  },
  {
   "cell_type": "code",
   "execution_count": 405,
   "metadata": {},
   "outputs": [
    {
     "data": {
      "text/html": [
       "<div>\n",
       "<style scoped>\n",
       "    .dataframe tbody tr th:only-of-type {\n",
       "        vertical-align: middle;\n",
       "    }\n",
       "\n",
       "    .dataframe tbody tr th {\n",
       "        vertical-align: top;\n",
       "    }\n",
       "\n",
       "    .dataframe thead th {\n",
       "        text-align: right;\n",
       "    }\n",
       "</style>\n",
       "<table border=\"1\" class=\"dataframe\">\n",
       "  <thead>\n",
       "    <tr style=\"text-align: right;\">\n",
       "      <th>target</th>\n",
       "      <th>education_level</th>\n",
       "      <th>0.0</th>\n",
       "      <th>1.0</th>\n",
       "    </tr>\n",
       "  </thead>\n",
       "  <tbody>\n",
       "    <tr>\n",
       "      <th>0</th>\n",
       "      <td>Graduate</td>\n",
       "      <td>72.225908</td>\n",
       "      <td>27.774092</td>\n",
       "    </tr>\n",
       "    <tr>\n",
       "      <th>1</th>\n",
       "      <td>High School</td>\n",
       "      <td>80.466039</td>\n",
       "      <td>19.533961</td>\n",
       "    </tr>\n",
       "    <tr>\n",
       "      <th>2</th>\n",
       "      <td>Masters</td>\n",
       "      <td>78.559963</td>\n",
       "      <td>21.440037</td>\n",
       "    </tr>\n",
       "    <tr>\n",
       "      <th>3</th>\n",
       "      <td>Phd</td>\n",
       "      <td>85.990338</td>\n",
       "      <td>14.009662</td>\n",
       "    </tr>\n",
       "    <tr>\n",
       "      <th>4</th>\n",
       "      <td>Primary School</td>\n",
       "      <td>86.688312</td>\n",
       "      <td>13.311688</td>\n",
       "    </tr>\n",
       "  </tbody>\n",
       "</table>\n",
       "</div>"
      ],
      "text/plain": [
       "target education_level        0.0        1.0\n",
       "0             Graduate  72.225908  27.774092\n",
       "1          High School  80.466039  19.533961\n",
       "2              Masters  78.559963  21.440037\n",
       "3                  Phd  85.990338  14.009662\n",
       "4       Primary School  86.688312  13.311688"
      ]
     },
     "execution_count": 405,
     "metadata": {},
     "output_type": "execute_result"
    }
   ],
   "source": [
    "plot_pctg = plot_df.copy()\n",
    "plot_pctg[1.0] = percentage_change(plot_df[1.0], plot_df[0.0])\n",
    "plot_pctg[0.0] = percentage_change(plot_df[0.0], plot_df[1.0])\n",
    "plot_pctg"
   ]
  },
  {
   "cell_type": "code",
   "execution_count": 406,
   "metadata": {},
   "outputs": [
    {
     "data": {
      "text/plain": [
       "<matplotlib.legend.Legend at 0x7f7431f4f190>"
      ]
     },
     "execution_count": 406,
     "metadata": {},
     "output_type": "execute_result"
    },
    {
     "data": {
      "image/png": "[encoded data removed]",
      "text/plain": [
       "<Figure size 432x288 with 1 Axes>"
      ]
     },
     "metadata": {
      "needs_background": "light"
     },
     "output_type": "display_data"
    }
   ],
   "source": [
    "ax = plot_pctg.plot.barh(stacked=True)\n",
    "plt.legend(bbox_to_anchor=(1.0, 1.0))"
   ]
  },
  {
   "cell_type": "markdown",
   "metadata": {},
   "source": [
    "Tỉ lệ ứng viên chọn làm việc không có sự chênh lệch quá nhiều, chỉ dao động từ ~1.3%-14%. Với nhóm `Graduate` như đã đề cập chiếm có số ứng viên chọn đi làm chiếm 27%"
   ]
  },
  {
   "cell_type": "markdown",
   "metadata": {},
   "source": [
    "##### Major_discipline"
   ]
  },
  {
   "cell_type": "code",
   "execution_count": 407,
   "metadata": {},
   "outputs": [
    {
     "data": {
      "text/html": [
       "<div>\n",
       "<style scoped>\n",
       "    .dataframe tbody tr th:only-of-type {\n",
       "        vertical-align: middle;\n",
       "    }\n",
       "\n",
       "    .dataframe tbody tr th {\n",
       "        vertical-align: top;\n",
       "    }\n",
       "\n",
       "    .dataframe thead th {\n",
       "        text-align: right;\n",
       "    }\n",
       "</style>\n",
       "<table border=\"1\" class=\"dataframe\">\n",
       "  <thead>\n",
       "    <tr style=\"text-align: right;\">\n",
       "      <th>target</th>\n",
       "      <th>major_discipline</th>\n",
       "      <th>0.0</th>\n",
       "      <th>1.0</th>\n",
       "    </tr>\n",
       "  </thead>\n",
       "  <tbody>\n",
       "    <tr>\n",
       "      <th>0</th>\n",
       "      <td>Arts</td>\n",
       "      <td>200</td>\n",
       "      <td>53</td>\n",
       "    </tr>\n",
       "    <tr>\n",
       "      <th>1</th>\n",
       "      <td>Business Degree</td>\n",
       "      <td>241</td>\n",
       "      <td>86</td>\n",
       "    </tr>\n",
       "    <tr>\n",
       "      <th>2</th>\n",
       "      <td>Humanities</td>\n",
       "      <td>528</td>\n",
       "      <td>141</td>\n",
       "    </tr>\n",
       "    <tr>\n",
       "      <th>3</th>\n",
       "      <td>No Major</td>\n",
       "      <td>168</td>\n",
       "      <td>55</td>\n",
       "    </tr>\n",
       "    <tr>\n",
       "      <th>4</th>\n",
       "      <td>Other</td>\n",
       "      <td>279</td>\n",
       "      <td>102</td>\n",
       "    </tr>\n",
       "    <tr>\n",
       "      <th>5</th>\n",
       "      <td>STEM</td>\n",
       "      <td>10701</td>\n",
       "      <td>3791</td>\n",
       "    </tr>\n",
       "  </tbody>\n",
       "</table>\n",
       "</div>"
      ],
      "text/plain": [
       "target major_discipline    0.0   1.0\n",
       "0                  Arts    200    53\n",
       "1       Business Degree    241    86\n",
       "2            Humanities    528   141\n",
       "3              No Major    168    55\n",
       "4                 Other    279   102\n",
       "5                  STEM  10701  3791"
      ]
     },
     "execution_count": 407,
     "metadata": {},
     "output_type": "execute_result"
    }
   ],
   "source": [
    "plot_df = aug_df.pivot_table(index = ['major_discipline'], columns = 'target', \n",
    "               aggfunc='size', fill_value=0).reset_index()\n",
    "plot_df"
   ]
  },
  {
   "cell_type": "code",
   "execution_count": 408,
   "metadata": {},
   "outputs": [
    {
     "data": {
      "image/png": "[encoded data removed]",
      "text/plain": [
       "<Figure size 432x288 with 1 Axes>"
      ]
     },
     "metadata": {
      "needs_background": "light"
     },
     "output_type": "display_data"
    }
   ],
   "source": [
    "ax = plot_df.plot.bar(stacked=True)"
   ]
  },
  {
   "cell_type": "code",
   "execution_count": 409,
   "metadata": {},
   "outputs": [
    {
     "data": {
      "text/html": [
       "<div>\n",
       "<style scoped>\n",
       "    .dataframe tbody tr th:only-of-type {\n",
       "        vertical-align: middle;\n",
       "    }\n",
       "\n",
       "    .dataframe tbody tr th {\n",
       "        vertical-align: top;\n",
       "    }\n",
       "\n",
       "    .dataframe thead th {\n",
       "        text-align: right;\n",
       "    }\n",
       "</style>\n",
       "<table border=\"1\" class=\"dataframe\">\n",
       "  <thead>\n",
       "    <tr style=\"text-align: right;\">\n",
       "      <th>target</th>\n",
       "      <th>major_discipline</th>\n",
       "      <th>0.0</th>\n",
       "      <th>1.0</th>\n",
       "    </tr>\n",
       "  </thead>\n",
       "  <tbody>\n",
       "    <tr>\n",
       "      <th>0</th>\n",
       "      <td>Arts</td>\n",
       "      <td>79.051383</td>\n",
       "      <td>20.948617</td>\n",
       "    </tr>\n",
       "    <tr>\n",
       "      <th>1</th>\n",
       "      <td>Business Degree</td>\n",
       "      <td>73.700306</td>\n",
       "      <td>26.299694</td>\n",
       "    </tr>\n",
       "    <tr>\n",
       "      <th>2</th>\n",
       "      <td>Humanities</td>\n",
       "      <td>78.923767</td>\n",
       "      <td>21.076233</td>\n",
       "    </tr>\n",
       "    <tr>\n",
       "      <th>3</th>\n",
       "      <td>No Major</td>\n",
       "      <td>75.336323</td>\n",
       "      <td>24.663677</td>\n",
       "    </tr>\n",
       "    <tr>\n",
       "      <th>4</th>\n",
       "      <td>Other</td>\n",
       "      <td>73.228346</td>\n",
       "      <td>26.771654</td>\n",
       "    </tr>\n",
       "    <tr>\n",
       "      <th>5</th>\n",
       "      <td>STEM</td>\n",
       "      <td>73.840740</td>\n",
       "      <td>26.159260</td>\n",
       "    </tr>\n",
       "  </tbody>\n",
       "</table>\n",
       "</div>"
      ],
      "text/plain": [
       "target major_discipline        0.0        1.0\n",
       "0                  Arts  79.051383  20.948617\n",
       "1       Business Degree  73.700306  26.299694\n",
       "2            Humanities  78.923767  21.076233\n",
       "3              No Major  75.336323  24.663677\n",
       "4                 Other  73.228346  26.771654\n",
       "5                  STEM  73.840740  26.159260"
      ]
     },
     "execution_count": 409,
     "metadata": {},
     "output_type": "execute_result"
    }
   ],
   "source": [
    "plot_pctg = plot_df.copy()\n",
    "plot_pctg[1.0] = percentage_change(plot_df[1.0], plot_df[0.0])\n",
    "plot_pctg[0.0] = percentage_change(plot_df[0.0], plot_df[1.0])\n",
    "plot_pctg"
   ]
  },
  {
   "cell_type": "code",
   "execution_count": 410,
   "metadata": {},
   "outputs": [
    {
     "data": {
      "text/plain": [
       "<matplotlib.legend.Legend at 0x7f7431fdc2b0>"
      ]
     },
     "execution_count": 410,
     "metadata": {},
     "output_type": "execute_result"
    },
    {
     "data": {
      "image/png": "[encoded data removed]",
      "text/plain": [
       "<Figure size 432x288 with 1 Axes>"
      ]
     },
     "metadata": {
      "needs_background": "light"
     },
     "output_type": "display_data"
    }
   ],
   "source": [
    "ax = plot_pctg.plot.barh(stacked=True)\n",
    "plt.legend(bbox_to_anchor=(1.0, 1.0))"
   ]
  },
  {
   "cell_type": "markdown",
   "metadata": {},
   "source": [
    "Đến với cột `major_discipline`, có vẻ như sự chênh lệch ở đây là rất rất lơn. Khi mà hầu hết ứng viên đều thuộc chuyên ngành `STEM`, được thể hiện qua bảng và biểu đồ ở trên.\n",
    "\n",
    "Tuy nhiên, khi xét với tỉ lệ %, dường như giữa các nhóm không có sự chênh lệch nhiều lắm. Lí do cho việc này có thể là do không đủ mẫu đối với các chuyên ngành khác, trong khi `STEM` có số lượng mẫu cực kì vượt trội. Có lẽ đây cũng là lý do đối với education_level"
   ]
  },
  {
   "cell_type": "markdown",
   "metadata": {},
   "source": [
    "##### Kết hợp 3 cột"
   ]
  },
  {
   "cell_type": "markdown",
   "metadata": {},
   "source": [
    "Sau khi đánh giá các tác động của từng cột lên target, dường như ta đã rút ra được một số yếu tố ảnh hưởng đến lựa chọn của ứng viên.\n",
    "\n",
    "Tuy nhiên, nhưng tác động này chỉ là đơn lẻ, và dĩ nhiên nếu dựa vào đó để kết luận rắng hầu hết những ai theo chuyên ngành `STEM` và có có trình độ học vấn là `Graduate` đều sẽ lựa chọn làm việc cho công ty. Để chứng minh rõ hơn bằng cách trực quan hóa, ta sẽ kết hợp 3 yếu tố đã kể trên và tiến hành trực quan.\n",
    "\n",
    "Tất nhiên, đây là một phương pháp ngu ngốc - đúng, bởi vì bảng dữ liệu sau khi thực hiện sẽ tạo ra rất nhiều dòng. Trong trường hợp xấu nhất, các dòng kết hợp với nhau đều có giá trị thì số dòng sẽ là 6x5x4 = 120 dòng. Tuy nhiên chúng ta cứ thử xem, vì biết đâu sẽ tìm được gì đó hay ho"
   ]
  },
  {
   "cell_type": "code",
   "execution_count": 425,
   "metadata": {},
   "outputs": [
    {
     "data": {
      "text/html": [
       "<div>\n",
       "<style scoped>\n",
       "    .dataframe tbody tr th:only-of-type {\n",
       "        vertical-align: middle;\n",
       "    }\n",
       "\n",
       "    .dataframe tbody tr th {\n",
       "        vertical-align: top;\n",
       "    }\n",
       "\n",
       "    .dataframe thead th {\n",
       "        text-align: right;\n",
       "    }\n",
       "</style>\n",
       "<table border=\"1\" class=\"dataframe\">\n",
       "  <thead>\n",
       "    <tr style=\"text-align: right;\">\n",
       "      <th>target</th>\n",
       "      <th>enrolled_university</th>\n",
       "      <th>education_level</th>\n",
       "      <th>major_discipline</th>\n",
       "      <th>0.0</th>\n",
       "      <th>1.0</th>\n",
       "    </tr>\n",
       "  </thead>\n",
       "  <tbody>\n",
       "    <tr>\n",
       "      <th>0</th>\n",
       "      <td>Full time course</td>\n",
       "      <td>Graduate</td>\n",
       "      <td>Arts</td>\n",
       "      <td>81.818182</td>\n",
       "      <td>18.181818</td>\n",
       "    </tr>\n",
       "    <tr>\n",
       "      <th>1</th>\n",
       "      <td>Full time course</td>\n",
       "      <td>Graduate</td>\n",
       "      <td>Business Degree</td>\n",
       "      <td>78.947368</td>\n",
       "      <td>21.052632</td>\n",
       "    </tr>\n",
       "    <tr>\n",
       "      <th>2</th>\n",
       "      <td>Full time course</td>\n",
       "      <td>Graduate</td>\n",
       "      <td>Humanities</td>\n",
       "      <td>66.666667</td>\n",
       "      <td>33.333333</td>\n",
       "    </tr>\n",
       "    <tr>\n",
       "      <th>3</th>\n",
       "      <td>Full time course</td>\n",
       "      <td>Graduate</td>\n",
       "      <td>No Major</td>\n",
       "      <td>52.941176</td>\n",
       "      <td>47.058824</td>\n",
       "    </tr>\n",
       "    <tr>\n",
       "      <th>4</th>\n",
       "      <td>Full time course</td>\n",
       "      <td>Graduate</td>\n",
       "      <td>Other</td>\n",
       "      <td>56.818182</td>\n",
       "      <td>43.181818</td>\n",
       "    </tr>\n",
       "    <tr>\n",
       "      <th>5</th>\n",
       "      <td>Full time course</td>\n",
       "      <td>Graduate</td>\n",
       "      <td>STEM</td>\n",
       "      <td>56.690647</td>\n",
       "      <td>43.309353</td>\n",
       "    </tr>\n",
       "    <tr>\n",
       "      <th>6</th>\n",
       "      <td>Full time course</td>\n",
       "      <td>Masters</td>\n",
       "      <td>Arts</td>\n",
       "      <td>50.000000</td>\n",
       "      <td>50.000000</td>\n",
       "    </tr>\n",
       "    <tr>\n",
       "      <th>7</th>\n",
       "      <td>Full time course</td>\n",
       "      <td>Masters</td>\n",
       "      <td>Business Degree</td>\n",
       "      <td>71.428571</td>\n",
       "      <td>28.571429</td>\n",
       "    </tr>\n",
       "    <tr>\n",
       "      <th>8</th>\n",
       "      <td>Full time course</td>\n",
       "      <td>Masters</td>\n",
       "      <td>Humanities</td>\n",
       "      <td>63.157895</td>\n",
       "      <td>36.842105</td>\n",
       "    </tr>\n",
       "    <tr>\n",
       "      <th>9</th>\n",
       "      <td>Full time course</td>\n",
       "      <td>Masters</td>\n",
       "      <td>No Major</td>\n",
       "      <td>0.000000</td>\n",
       "      <td>100.000000</td>\n",
       "    </tr>\n",
       "    <tr>\n",
       "      <th>10</th>\n",
       "      <td>Full time course</td>\n",
       "      <td>Masters</td>\n",
       "      <td>Other</td>\n",
       "      <td>53.846154</td>\n",
       "      <td>46.153846</td>\n",
       "    </tr>\n",
       "    <tr>\n",
       "      <th>11</th>\n",
       "      <td>Full time course</td>\n",
       "      <td>Masters</td>\n",
       "      <td>STEM</td>\n",
       "      <td>62.573099</td>\n",
       "      <td>37.426901</td>\n",
       "    </tr>\n",
       "    <tr>\n",
       "      <th>12</th>\n",
       "      <td>Full time course</td>\n",
       "      <td>Phd</td>\n",
       "      <td>Other</td>\n",
       "      <td>100.000000</td>\n",
       "      <td>0.000000</td>\n",
       "    </tr>\n",
       "    <tr>\n",
       "      <th>13</th>\n",
       "      <td>Full time course</td>\n",
       "      <td>Phd</td>\n",
       "      <td>STEM</td>\n",
       "      <td>77.272727</td>\n",
       "      <td>22.727273</td>\n",
       "    </tr>\n",
       "    <tr>\n",
       "      <th>14</th>\n",
       "      <td>Part time course</td>\n",
       "      <td>Graduate</td>\n",
       "      <td>Arts</td>\n",
       "      <td>80.000000</td>\n",
       "      <td>20.000000</td>\n",
       "    </tr>\n",
       "    <tr>\n",
       "      <th>15</th>\n",
       "      <td>Part time course</td>\n",
       "      <td>Graduate</td>\n",
       "      <td>Business Degree</td>\n",
       "      <td>76.923077</td>\n",
       "      <td>23.076923</td>\n",
       "    </tr>\n",
       "    <tr>\n",
       "      <th>16</th>\n",
       "      <td>Part time course</td>\n",
       "      <td>Graduate</td>\n",
       "      <td>Humanities</td>\n",
       "      <td>57.142857</td>\n",
       "      <td>42.857143</td>\n",
       "    </tr>\n",
       "    <tr>\n",
       "      <th>17</th>\n",
       "      <td>Part time course</td>\n",
       "      <td>Graduate</td>\n",
       "      <td>No Major</td>\n",
       "      <td>72.727273</td>\n",
       "      <td>27.272727</td>\n",
       "    </tr>\n",
       "    <tr>\n",
       "      <th>18</th>\n",
       "      <td>Part time course</td>\n",
       "      <td>Graduate</td>\n",
       "      <td>Other</td>\n",
       "      <td>75.000000</td>\n",
       "      <td>25.000000</td>\n",
       "    </tr>\n",
       "    <tr>\n",
       "      <th>19</th>\n",
       "      <td>Part time course</td>\n",
       "      <td>Graduate</td>\n",
       "      <td>STEM</td>\n",
       "      <td>74.723757</td>\n",
       "      <td>25.276243</td>\n",
       "    </tr>\n",
       "    <tr>\n",
       "      <th>20</th>\n",
       "      <td>Part time course</td>\n",
       "      <td>Masters</td>\n",
       "      <td>Arts</td>\n",
       "      <td>50.000000</td>\n",
       "      <td>50.000000</td>\n",
       "    </tr>\n",
       "    <tr>\n",
       "      <th>21</th>\n",
       "      <td>Part time course</td>\n",
       "      <td>Masters</td>\n",
       "      <td>Business Degree</td>\n",
       "      <td>100.000000</td>\n",
       "      <td>0.000000</td>\n",
       "    </tr>\n",
       "    <tr>\n",
       "      <th>22</th>\n",
       "      <td>Part time course</td>\n",
       "      <td>Masters</td>\n",
       "      <td>Humanities</td>\n",
       "      <td>90.909091</td>\n",
       "      <td>9.090909</td>\n",
       "    </tr>\n",
       "    <tr>\n",
       "      <th>23</th>\n",
       "      <td>Part time course</td>\n",
       "      <td>Masters</td>\n",
       "      <td>No Major</td>\n",
       "      <td>100.000000</td>\n",
       "      <td>0.000000</td>\n",
       "    </tr>\n",
       "    <tr>\n",
       "      <th>24</th>\n",
       "      <td>Part time course</td>\n",
       "      <td>Masters</td>\n",
       "      <td>Other</td>\n",
       "      <td>80.000000</td>\n",
       "      <td>20.000000</td>\n",
       "    </tr>\n",
       "    <tr>\n",
       "      <th>25</th>\n",
       "      <td>Part time course</td>\n",
       "      <td>Masters</td>\n",
       "      <td>STEM</td>\n",
       "      <td>71.751412</td>\n",
       "      <td>28.248588</td>\n",
       "    </tr>\n",
       "    <tr>\n",
       "      <th>26</th>\n",
       "      <td>Part time course</td>\n",
       "      <td>Phd</td>\n",
       "      <td>Humanities</td>\n",
       "      <td>100.000000</td>\n",
       "      <td>0.000000</td>\n",
       "    </tr>\n",
       "    <tr>\n",
       "      <th>27</th>\n",
       "      <td>Part time course</td>\n",
       "      <td>Phd</td>\n",
       "      <td>Other</td>\n",
       "      <td>0.000000</td>\n",
       "      <td>100.000000</td>\n",
       "    </tr>\n",
       "    <tr>\n",
       "      <th>28</th>\n",
       "      <td>Part time course</td>\n",
       "      <td>Phd</td>\n",
       "      <td>STEM</td>\n",
       "      <td>77.777778</td>\n",
       "      <td>22.222222</td>\n",
       "    </tr>\n",
       "    <tr>\n",
       "      <th>29</th>\n",
       "      <td>no_enrollment</td>\n",
       "      <td>Graduate</td>\n",
       "      <td>Arts</td>\n",
       "      <td>81.818182</td>\n",
       "      <td>18.181818</td>\n",
       "    </tr>\n",
       "    <tr>\n",
       "      <th>30</th>\n",
       "      <td>no_enrollment</td>\n",
       "      <td>Graduate</td>\n",
       "      <td>Business Degree</td>\n",
       "      <td>72.330097</td>\n",
       "      <td>27.669903</td>\n",
       "    </tr>\n",
       "    <tr>\n",
       "      <th>31</th>\n",
       "      <td>no_enrollment</td>\n",
       "      <td>Graduate</td>\n",
       "      <td>Humanities</td>\n",
       "      <td>78.272251</td>\n",
       "      <td>21.727749</td>\n",
       "    </tr>\n",
       "    <tr>\n",
       "      <th>32</th>\n",
       "      <td>no_enrollment</td>\n",
       "      <td>Graduate</td>\n",
       "      <td>No Major</td>\n",
       "      <td>76.506024</td>\n",
       "      <td>23.493976</td>\n",
       "    </tr>\n",
       "    <tr>\n",
       "      <th>33</th>\n",
       "      <td>no_enrollment</td>\n",
       "      <td>Graduate</td>\n",
       "      <td>Other</td>\n",
       "      <td>71.759259</td>\n",
       "      <td>28.240741</td>\n",
       "    </tr>\n",
       "    <tr>\n",
       "      <th>34</th>\n",
       "      <td>no_enrollment</td>\n",
       "      <td>Graduate</td>\n",
       "      <td>STEM</td>\n",
       "      <td>75.521184</td>\n",
       "      <td>24.478816</td>\n",
       "    </tr>\n",
       "    <tr>\n",
       "      <th>35</th>\n",
       "      <td>no_enrollment</td>\n",
       "      <td>Masters</td>\n",
       "      <td>Arts</td>\n",
       "      <td>68.421053</td>\n",
       "      <td>31.578947</td>\n",
       "    </tr>\n",
       "    <tr>\n",
       "      <th>36</th>\n",
       "      <td>no_enrollment</td>\n",
       "      <td>Masters</td>\n",
       "      <td>Business Degree</td>\n",
       "      <td>72.602740</td>\n",
       "      <td>27.397260</td>\n",
       "    </tr>\n",
       "    <tr>\n",
       "      <th>37</th>\n",
       "      <td>no_enrollment</td>\n",
       "      <td>Masters</td>\n",
       "      <td>Humanities</td>\n",
       "      <td>83.589744</td>\n",
       "      <td>16.410256</td>\n",
       "    </tr>\n",
       "    <tr>\n",
       "      <th>38</th>\n",
       "      <td>no_enrollment</td>\n",
       "      <td>Masters</td>\n",
       "      <td>No Major</td>\n",
       "      <td>88.000000</td>\n",
       "      <td>12.000000</td>\n",
       "    </tr>\n",
       "    <tr>\n",
       "      <th>39</th>\n",
       "      <td>no_enrollment</td>\n",
       "      <td>Masters</td>\n",
       "      <td>Other</td>\n",
       "      <td>86.585366</td>\n",
       "      <td>13.414634</td>\n",
       "    </tr>\n",
       "    <tr>\n",
       "      <th>40</th>\n",
       "      <td>no_enrollment</td>\n",
       "      <td>Masters</td>\n",
       "      <td>STEM</td>\n",
       "      <td>81.432611</td>\n",
       "      <td>18.567389</td>\n",
       "    </tr>\n",
       "    <tr>\n",
       "      <th>41</th>\n",
       "      <td>no_enrollment</td>\n",
       "      <td>Phd</td>\n",
       "      <td>Arts</td>\n",
       "      <td>66.666667</td>\n",
       "      <td>33.333333</td>\n",
       "    </tr>\n",
       "    <tr>\n",
       "      <th>42</th>\n",
       "      <td>no_enrollment</td>\n",
       "      <td>Phd</td>\n",
       "      <td>Business Degree</td>\n",
       "      <td>100.000000</td>\n",
       "      <td>0.000000</td>\n",
       "    </tr>\n",
       "    <tr>\n",
       "      <th>43</th>\n",
       "      <td>no_enrollment</td>\n",
       "      <td>Phd</td>\n",
       "      <td>Humanities</td>\n",
       "      <td>81.818182</td>\n",
       "      <td>18.181818</td>\n",
       "    </tr>\n",
       "    <tr>\n",
       "      <th>44</th>\n",
       "      <td>no_enrollment</td>\n",
       "      <td>Phd</td>\n",
       "      <td>Other</td>\n",
       "      <td>100.000000</td>\n",
       "      <td>0.000000</td>\n",
       "    </tr>\n",
       "    <tr>\n",
       "      <th>45</th>\n",
       "      <td>no_enrollment</td>\n",
       "      <td>Phd</td>\n",
       "      <td>STEM</td>\n",
       "      <td>86.918605</td>\n",
       "      <td>13.081395</td>\n",
       "    </tr>\n",
       "  </tbody>\n",
       "</table>\n",
       "</div>"
      ],
      "text/plain": [
       "target enrolled_university education_level major_discipline         0.0  \\\n",
       "0         Full time course        Graduate             Arts   81.818182   \n",
       "1         Full time course        Graduate  Business Degree   78.947368   \n",
       "2         Full time course        Graduate       Humanities   66.666667   \n",
       "3         Full time course        Graduate         No Major   52.941176   \n",
       "4         Full time course        Graduate            Other   56.818182   \n",
       "5         Full time course        Graduate             STEM   56.690647   \n",
       "6         Full time course         Masters             Arts   50.000000   \n",
       "7         Full time course         Masters  Business Degree   71.428571   \n",
       "8         Full time course         Masters       Humanities   63.157895   \n",
       "9         Full time course         Masters         No Major    0.000000   \n",
       "10        Full time course         Masters            Other   53.846154   \n",
       "11        Full time course         Masters             STEM   62.573099   \n",
       "12        Full time course             Phd            Other  100.000000   \n",
       "13        Full time course             Phd             STEM   77.272727   \n",
       "14        Part time course        Graduate             Arts   80.000000   \n",
       "15        Part time course        Graduate  Business Degree   76.923077   \n",
       "16        Part time course        Graduate       Humanities   57.142857   \n",
       "17        Part time course        Graduate         No Major   72.727273   \n",
       "18        Part time course        Graduate            Other   75.000000   \n",
       "19        Part time course        Graduate             STEM   74.723757   \n",
       "20        Part time course         Masters             Arts   50.000000   \n",
       "21        Part time course         Masters  Business Degree  100.000000   \n",
       "22        Part time course         Masters       Humanities   90.909091   \n",
       "23        Part time course         Masters         No Major  100.000000   \n",
       "24        Part time course         Masters            Other   80.000000   \n",
       "25        Part time course         Masters             STEM   71.751412   \n",
       "26        Part time course             Phd       Humanities  100.000000   \n",
       "27        Part time course             Phd            Other    0.000000   \n",
       "28        Part time course             Phd             STEM   77.777778   \n",
       "29           no_enrollment        Graduate             Arts   81.818182   \n",
       "30           no_enrollment        Graduate  Business Degree   72.330097   \n",
       "31           no_enrollment        Graduate       Humanities   78.272251   \n",
       "32           no_enrollment        Graduate         No Major   76.506024   \n",
       "33           no_enrollment        Graduate            Other   71.759259   \n",
       "34           no_enrollment        Graduate             STEM   75.521184   \n",
       "35           no_enrollment         Masters             Arts   68.421053   \n",
       "36           no_enrollment         Masters  Business Degree   72.602740   \n",
       "37           no_enrollment         Masters       Humanities   83.589744   \n",
       "38           no_enrollment         Masters         No Major   88.000000   \n",
       "39           no_enrollment         Masters            Other   86.585366   \n",
       "40           no_enrollment         Masters             STEM   81.432611   \n",
       "41           no_enrollment             Phd             Arts   66.666667   \n",
       "42           no_enrollment             Phd  Business Degree  100.000000   \n",
       "43           no_enrollment             Phd       Humanities   81.818182   \n",
       "44           no_enrollment             Phd            Other  100.000000   \n",
       "45           no_enrollment             Phd             STEM   86.918605   \n",
       "\n",
       "target         1.0  \n",
       "0        18.181818  \n",
       "1        21.052632  \n",
       "2        33.333333  \n",
       "3        47.058824  \n",
       "4        43.181818  \n",
       "5        43.309353  \n",
       "6        50.000000  \n",
       "7        28.571429  \n",
       "8        36.842105  \n",
       "9       100.000000  \n",
       "10       46.153846  \n",
       "11       37.426901  \n",
       "12        0.000000  \n",
       "13       22.727273  \n",
       "14       20.000000  \n",
       "15       23.076923  \n",
       "16       42.857143  \n",
       "17       27.272727  \n",
       "18       25.000000  \n",
       "19       25.276243  \n",
       "20       50.000000  \n",
       "21        0.000000  \n",
       "22        9.090909  \n",
       "23        0.000000  \n",
       "24       20.000000  \n",
       "25       28.248588  \n",
       "26        0.000000  \n",
       "27      100.000000  \n",
       "28       22.222222  \n",
       "29       18.181818  \n",
       "30       27.669903  \n",
       "31       21.727749  \n",
       "32       23.493976  \n",
       "33       28.240741  \n",
       "34       24.478816  \n",
       "35       31.578947  \n",
       "36       27.397260  \n",
       "37       16.410256  \n",
       "38       12.000000  \n",
       "39       13.414634  \n",
       "40       18.567389  \n",
       "41       33.333333  \n",
       "42        0.000000  \n",
       "43       18.181818  \n",
       "44        0.000000  \n",
       "45       13.081395  "
      ]
     },
     "execution_count": 425,
     "metadata": {},
     "output_type": "execute_result"
    }
   ],
   "source": [
    "plot_df = aug_df.pivot_table(index = ['enrolled_university', 'education_level', 'major_discipline'], columns = 'target', \n",
    "               aggfunc='size', fill_value=0).reset_index()\n",
    "plot_pctg = plot_df.copy()\n",
    "plot_pctg[1.0] = percentage_change(plot_df[1.0], plot_df[0.0])\n",
    "plot_pctg[0.0] = percentage_change(plot_df[0.0], plot_df[1.0])\n",
    "plot_pctg"
   ]
  },
  {
   "cell_type": "code",
   "execution_count": 430,
   "metadata": {},
   "outputs": [
    {
     "data": {
      "image/png": "[encoded data removed]",
      "text/plain": [
       "<Figure size 1440x504 with 1 Axes>"
      ]
     },
     "metadata": {
      "needs_background": "light"
     },
     "output_type": "display_data"
    }
   ],
   "source": [
    "ax = plot_df.plot.bar(stacked=True, figsize= (20,7))"
   ]
  },
  {
   "cell_type": "markdown",
   "metadata": {},
   "source": [
    "Đúng như những dữ đoán ban đầu, số dòng được tạo ra là rất nhiều - 45 dòng, nhưng nhìn chung kết quả này là vẫn chấp nhận được, và vẫn nằm trong khả năng có thể quan sát. \n",
    "\n",
    "Đáng chú ý trong biểu đồ trên là 2 dòng 5 và 34. Trong đó một dòng có số lượng ứng viên tương đối - không quá nhiều, nhưng tỉ lệ ứng viên chọn đi làm là khá cao. Còn một dòng là chiếm số lượng ứng viên nhiều nhất (>7000)\n",
    "\n",
    "Và khi đối chiếu với bảng trên thì 2 dòng này là:\n",
    "\n",
    "| Enrolled_university | Education_level | major_discipline |\n",
    "| --------------- | --------- | ----- |\n",
    "| Full time course | Graduate |\tSTEM\n",
    "| no_enrollment | Graduate | STEM |"
   ]
  },
  {
   "cell_type": "markdown",
   "metadata": {},
   "source": [
    "Kết luận:\n",
    "- Với các cột education_level và major_discipline"
   ]
  },
  {
   "cell_type": "markdown",
   "metadata": {},
   "source": [
    "***"
   ]
  },
  {
   "cell_type": "markdown",
   "metadata": {},
   "source": [
    "2. "
   ]
  },
  {
   "cell_type": "markdown",
   "metadata": {},
   "source": [
    "Như đã đặt vấn đề trước đó, ta sẽ tập trung vào các yếu tố môi trường làm việc ảnh hưởng như thế nào tới cột target.\n",
    "\n",
    "Ta sẽ đi qua hai phần chính:\n",
    "- Sự tương quan giữa các yếu tố môi trường làm việc với nhau tới target.\n",
    "- Mối quan hệ giữa các yếu tố khác với môi trường làm việc ảnh hưởng đến kết quả."
   ]
  },
  {
   "cell_type": "markdown",
   "metadata": {},
   "source": [
    "### Môi trường làm việc"
   ]
  },
  {
   "cell_type": "markdown",
   "metadata": {},
   "source": [
    "Các yếu tố làm việc sẽ được thể hiện qua các cột \"city_development_index\", \"company_size\", \"company_type\", ta cùng tìm hiểu các cột này có mối quan hệ như thế nào với cột target nhé.\n",
    "\n",
    "Bây giờ ta có thể đưa ra một số giả thuyết như : \n",
    "- Chỉ số thành phố (city_development_index) có liên quan gì đến kết quả không ?\n",
    "- company_size và company_type có mối quan hệ như thế nào ?\n",
    "- Tổng hợp các giá trị trên ta có thể suy ra kết quả được không ?"
   ]
  },
  {
   "cell_type": "code",
   "execution_count": 411,
   "metadata": {},
   "outputs": [],
   "source": [
    "works_cols = ['city_development_index','company_size','company_type','target']\n",
    "aug_df_work_1 = aug_df[works_cols]"
   ]
  },
  {
   "cell_type": "markdown",
   "metadata": {},
   "source": [
    "Ta phải các lưu ý trước rằng tỷ lệ missing ở hai cột company đều cao (>30%) nên ta không thể drop hay fill được. Cách duy nhất là giữ nguyên giá trị thiếu các cột này và xem nó như một giá trị riêng biệt."
   ]
  },
  {
   "cell_type": "code",
   "execution_count": 412,
   "metadata": {},
   "outputs": [
    {
     "data": {
      "text/html": [
       "<div>\n",
       "<style scoped>\n",
       "    .dataframe tbody tr th:only-of-type {\n",
       "        vertical-align: middle;\n",
       "    }\n",
       "\n",
       "    .dataframe tbody tr th {\n",
       "        vertical-align: top;\n",
       "    }\n",
       "\n",
       "    .dataframe thead th {\n",
       "        text-align: right;\n",
       "    }\n",
       "</style>\n",
       "<table border=\"1\" class=\"dataframe\">\n",
       "  <thead>\n",
       "    <tr style=\"text-align: right;\">\n",
       "      <th></th>\n",
       "      <th>index</th>\n",
       "      <th>frequency</th>\n",
       "    </tr>\n",
       "  </thead>\n",
       "  <tbody>\n",
       "    <tr>\n",
       "      <th>0</th>\n",
       "      <td>0.920</td>\n",
       "      <td>5200</td>\n",
       "    </tr>\n",
       "    <tr>\n",
       "      <th>1</th>\n",
       "      <td>0.624</td>\n",
       "      <td>2702</td>\n",
       "    </tr>\n",
       "    <tr>\n",
       "      <th>2</th>\n",
       "      <td>0.910</td>\n",
       "      <td>1533</td>\n",
       "    </tr>\n",
       "    <tr>\n",
       "      <th>3</th>\n",
       "      <td>0.926</td>\n",
       "      <td>1336</td>\n",
       "    </tr>\n",
       "    <tr>\n",
       "      <th>4</th>\n",
       "      <td>0.698</td>\n",
       "      <td>683</td>\n",
       "    </tr>\n",
       "    <tr>\n",
       "      <th>...</th>\n",
       "      <td>...</td>\n",
       "      <td>...</td>\n",
       "    </tr>\n",
       "    <tr>\n",
       "      <th>88</th>\n",
       "      <td>0.649</td>\n",
       "      <td>4</td>\n",
       "    </tr>\n",
       "    <tr>\n",
       "      <th>89</th>\n",
       "      <td>0.807</td>\n",
       "      <td>4</td>\n",
       "    </tr>\n",
       "    <tr>\n",
       "      <th>90</th>\n",
       "      <td>0.781</td>\n",
       "      <td>3</td>\n",
       "    </tr>\n",
       "    <tr>\n",
       "      <th>91</th>\n",
       "      <td>0.625</td>\n",
       "      <td>3</td>\n",
       "    </tr>\n",
       "    <tr>\n",
       "      <th>92</th>\n",
       "      <td>0.664</td>\n",
       "      <td>1</td>\n",
       "    </tr>\n",
       "  </tbody>\n",
       "</table>\n",
       "<p>93 rows × 2 columns</p>\n",
       "</div>"
      ],
      "text/plain": [
       "    index  frequency\n",
       "0   0.920       5200\n",
       "1   0.624       2702\n",
       "2   0.910       1533\n",
       "3   0.926       1336\n",
       "4   0.698        683\n",
       "..    ...        ...\n",
       "88  0.649          4\n",
       "89  0.807          4\n",
       "90  0.781          3\n",
       "91  0.625          3\n",
       "92  0.664          1\n",
       "\n",
       "[93 rows x 2 columns]"
      ]
     },
     "execution_count": 412,
     "metadata": {},
     "output_type": "execute_result"
    }
   ],
   "source": [
    "data = aug_df_work_1['city_development_index'].value_counts()\n",
    "data_index = list(data.index)\n",
    "data_value = [data[x] for x in data_index]\n",
    "data = {'index':data_index,'frequency':data_value}\n",
    "data_df = pd.DataFrame(data=data)\n",
    "data_df"
   ]
  },
  {
   "cell_type": "code",
   "execution_count": 413,
   "metadata": {},
   "outputs": [
    {
     "data": {
      "application/vnd.plotly.v1+json": {
       "config": {
        "plotlyServerURL": "https://plot.ly"
       },
       "data": [
        {
         "domain": {
          "x": [
           0,
           1
          ],
          "y": [
           0,
           1
          ]
         },
         "hovertemplate": "index=%{label}<br>frequency=%{value}<extra></extra>",
         "labels": [
          0.92,
          0.624,
          0.91,
          0.926,
          0.698,
          0.897,
          0.939,
          0.855,
          0.804,
          0.924,
          0.754,
          0.887,
          0.884,
          0.55,
          0.913,
          0.899,
          0.802,
          0.925,
          0.893,
          0.878,
          0.743,
          0.923,
          0.896,
          0.827,
          0.579,
          0.767,
          0.762,
          0.836,
          0.682,
          0.666,
          0.89,
          0.866,
          0.689,
          0.915,
          0.843,
          0.794,
          0.527,
          0.895,
          0.776,
          0.903,
          0.949,
          0.738,
          0.558,
          0.74,
          0.555,
          0.789,
          0.727,
          0.766,
          0.848,
          0.691,
          0.847,
          0.83,
          0.856,
          0.796,
          0.84,
          0.479,
          0.647,
          0.763,
          0.722,
          0.865,
          0.764,
          0.769,
          0.795,
          0.725,
          0.448,
          0.556,
          0.739,
          0.493,
          0.64,
          0.563,
          0.516,
          0.898,
          0.745,
          0.742,
          0.921,
          0.775,
          0.701,
          0.68,
          0.735,
          0.788,
          0.73,
          0.78,
          0.518,
          0.645,
          0.512,
          0.487,
          0.693,
          0.824,
          0.649,
          0.807,
          0.781,
          0.625,
          0.664
         ],
         "legendgroup": "",
         "name": "",
         "showlegend": true,
         "textinfo": "percent+label",
         "textposition": "inside",
         "type": "pie",
         "values": [
          5200,
          2702,
          1533,
          1336,
          683,
          586,
          497,
          431,
          304,
          301,
          280,
          275,
          266,
          247,
          197,
          182,
          175,
          171,
          160,
          151,
          146,
          143,
          140,
          137,
          135,
          128,
          128,
          120,
          119,
          114,
          113,
          103,
          102,
          94,
          94,
          93,
          92,
          86,
          82,
          82,
          79,
          79,
          75,
          67,
          63,
          54,
          53,
          49,
          47,
          45,
          41,
          32,
          32,
          29,
          29,
          28,
          27,
          27,
          27,
          26,
          24,
          22,
          20,
          18,
          17,
          14,
          14,
          13,
          13,
          13,
          12,
          11,
          10,
          10,
          10,
          10,
          9,
          9,
          8,
          7,
          7,
          6,
          6,
          5,
          5,
          5,
          4,
          4,
          4,
          4,
          3,
          3,
          1
         ]
        }
       ],
       "layout": {
        "legend": {
         "tracegroupgap": 0
        },
        "template": {
         "data": {
          "bar": [
           {
            "error_x": {
             "color": "#2a3f5f"
            },
            "error_y": {
             "color": "#2a3f5f"
            },
            "marker": {
             "line": {
              "color": "#E5ECF6",
              "width": 0.5
             },
             "pattern": {
              "fillmode": "overlay",
              "size": 10,
              "solidity": 0.2
             }
            },
            "type": "bar"
           }
          ],
          "barpolar": [
           {
            "marker": {
             "line": {
              "color": "#E5ECF6",
              "width": 0.5
             },
             "pattern": {
              "fillmode": "overlay",
              "size": 10,
              "solidity": 0.2
             }
            },
            "type": "barpolar"
           }
          ],
          "carpet": [
           {
            "aaxis": {
             "endlinecolor": "#2a3f5f",
             "gridcolor": "white",
             "linecolor": "white",
             "minorgridcolor": "white",
             "startlinecolor": "#2a3f5f"
            },
            "baxis": {
             "endlinecolor": "#2a3f5f",
             "gridcolor": "white",
             "linecolor": "white",
             "minorgridcolor": "white",
             "startlinecolor": "#2a3f5f"
            },
            "type": "carpet"
           }
          ],
          "choropleth": [
           {
            "colorbar": {
             "outlinewidth": 0,
             "ticks": ""
            },
            "type": "choropleth"
           }
          ],
          "contour": [
           {
            "colorbar": {
             "outlinewidth": 0,
             "ticks": ""
            },
            "colorscale": [
             [
              0,
              "#0d0887"
             ],
             [
              0.1111111111111111,
              "#46039f"
             ],
             [
              0.2222222222222222,
              "#7201a8"
             ],
             [
              0.3333333333333333,
              "#9c179e"
             ],
             [
              0.4444444444444444,
              "#bd3786"
             ],
             [
              0.5555555555555556,
              "#d8576b"
             ],
             [
              0.6666666666666666,
              "#ed7953"
             ],
             [
              0.7777777777777778,
              "#fb9f3a"
             ],
             [
              0.8888888888888888,
              "#fdca26"
             ],
             [
              1,
              "#f0f921"
             ]
            ],
            "type": "contour"
           }
          ],
          "contourcarpet": [
           {
            "colorbar": {
             "outlinewidth": 0,
             "ticks": ""
            },
            "type": "contourcarpet"
           }
          ],
          "heatmap": [
           {
            "colorbar": {
             "outlinewidth": 0,
             "ticks": ""
            },
            "colorscale": [
             [
              0,
              "#0d0887"
             ],
             [
              0.1111111111111111,
              "#46039f"
             ],
             [
              0.2222222222222222,
              "#7201a8"
             ],
             [
              0.3333333333333333,
              "#9c179e"
             ],
             [
              0.4444444444444444,
              "#bd3786"
             ],
             [
              0.5555555555555556,
              "#d8576b"
             ],
             [
              0.6666666666666666,
              "#ed7953"
             ],
             [
              0.7777777777777778,
              "#fb9f3a"
             ],
             [
              0.8888888888888888,
              "#fdca26"
             ],
             [
              1,
              "#f0f921"
             ]
            ],
            "type": "heatmap"
           }
          ],
          "heatmapgl": [
           {
            "colorbar": {
             "outlinewidth": 0,
             "ticks": ""
            },
            "colorscale": [
             [
              0,
              "#0d0887"
             ],
             [
              0.1111111111111111,
              "#46039f"
             ],
             [
              0.2222222222222222,
              "#7201a8"
             ],
             [
              0.3333333333333333,
              "#9c179e"
             ],
             [
              0.4444444444444444,
              "#bd3786"
             ],
             [
              0.5555555555555556,
              "#d8576b"
             ],
             [
              0.6666666666666666,
              "#ed7953"
             ],
             [
              0.7777777777777778,
              "#fb9f3a"
             ],
             [
              0.8888888888888888,
              "#fdca26"
             ],
             [
              1,
              "#f0f921"
             ]
            ],
            "type": "heatmapgl"
           }
          ],
          "histogram": [
           {
            "marker": {
             "pattern": {
              "fillmode": "overlay",
              "size": 10,
              "solidity": 0.2
             }
            },
            "type": "histogram"
           }
          ],
          "histogram2d": [
           {
            "colorbar": {
             "outlinewidth": 0,
             "ticks": ""
            },
            "colorscale": [
             [
              0,
              "#0d0887"
             ],
             [
              0.1111111111111111,
              "#46039f"
             ],
             [
              0.2222222222222222,
              "#7201a8"
             ],
             [
              0.3333333333333333,
              "#9c179e"
             ],
             [
              0.4444444444444444,
              "#bd3786"
             ],
             [
              0.5555555555555556,
              "#d8576b"
             ],
             [
              0.6666666666666666,
              "#ed7953"
             ],
             [
              0.7777777777777778,
              "#fb9f3a"
             ],
             [
              0.8888888888888888,
              "#fdca26"
             ],
             [
              1,
              "#f0f921"
             ]
            ],
            "type": "histogram2d"
           }
          ],
          "histogram2dcontour": [
           {
            "colorbar": {
             "outlinewidth": 0,
             "ticks": ""
            },
            "colorscale": [
             [
              0,
              "#0d0887"
             ],
             [
              0.1111111111111111,
              "#46039f"
             ],
             [
              0.2222222222222222,
              "#7201a8"
             ],
             [
              0.3333333333333333,
              "#9c179e"
             ],
             [
              0.4444444444444444,
              "#bd3786"
             ],
             [
              0.5555555555555556,
              "#d8576b"
             ],
             [
              0.6666666666666666,
              "#ed7953"
             ],
             [
              0.7777777777777778,
              "#fb9f3a"
             ],
             [
              0.8888888888888888,
              "#fdca26"
             ],
             [
              1,
              "#f0f921"
             ]
            ],
            "type": "histogram2dcontour"
           }
          ],
          "mesh3d": [
           {
            "colorbar": {
             "outlinewidth": 0,
             "ticks": ""
            },
            "type": "mesh3d"
           }
          ],
          "parcoords": [
           {
            "line": {
             "colorbar": {
              "outlinewidth": 0,
              "ticks": ""
             }
            },
            "type": "parcoords"
           }
          ],
          "pie": [
           {
            "automargin": true,
            "type": "pie"
           }
          ],
          "scatter": [
           {
            "marker": {
             "colorbar": {
              "outlinewidth": 0,
              "ticks": ""
             }
            },
            "type": "scatter"
           }
          ],
          "scatter3d": [
           {
            "line": {
             "colorbar": {
              "outlinewidth": 0,
              "ticks": ""
             }
            },
            "marker": {
             "colorbar": {
              "outlinewidth": 0,
              "ticks": ""
             }
            },
            "type": "scatter3d"
           }
          ],
          "scattercarpet": [
           {
            "marker": {
             "colorbar": {
              "outlinewidth": 0,
              "ticks": ""
             }
            },
            "type": "scattercarpet"
           }
          ],
          "scattergeo": [
           {
            "marker": {
             "colorbar": {
              "outlinewidth": 0,
              "ticks": ""
             }
            },
            "type": "scattergeo"
           }
          ],
          "scattergl": [
           {
            "marker": {
             "colorbar": {
              "outlinewidth": 0,
              "ticks": ""
             }
            },
            "type": "scattergl"
           }
          ],
          "scattermapbox": [
           {
            "marker": {
             "colorbar": {
              "outlinewidth": 0,
              "ticks": ""
             }
            },
            "type": "scattermapbox"
           }
          ],
          "scatterpolar": [
           {
            "marker": {
             "colorbar": {
              "outlinewidth": 0,
              "ticks": ""
             }
            },
            "type": "scatterpolar"
           }
          ],
          "scatterpolargl": [
           {
            "marker": {
             "colorbar": {
              "outlinewidth": 0,
              "ticks": ""
             }
            },
            "type": "scatterpolargl"
           }
          ],
          "scatterternary": [
           {
            "marker": {
             "colorbar": {
              "outlinewidth": 0,
              "ticks": ""
             }
            },
            "type": "scatterternary"
           }
          ],
          "surface": [
           {
            "colorbar": {
             "outlinewidth": 0,
             "ticks": ""
            },
            "colorscale": [
             [
              0,
              "#0d0887"
             ],
             [
              0.1111111111111111,
              "#46039f"
             ],
             [
              0.2222222222222222,
              "#7201a8"
             ],
             [
              0.3333333333333333,
              "#9c179e"
             ],
             [
              0.4444444444444444,
              "#bd3786"
             ],
             [
              0.5555555555555556,
              "#d8576b"
             ],
             [
              0.6666666666666666,
              "#ed7953"
             ],
             [
              0.7777777777777778,
              "#fb9f3a"
             ],
             [
              0.8888888888888888,
              "#fdca26"
             ],
             [
              1,
              "#f0f921"
             ]
            ],
            "type": "surface"
           }
          ],
          "table": [
           {
            "cells": {
             "fill": {
              "color": "#EBF0F8"
             },
             "line": {
              "color": "white"
             }
            },
            "header": {
             "fill": {
              "color": "#C8D4E3"
             },
             "line": {
              "color": "white"
             }
            },
            "type": "table"
           }
          ]
         },
         "layout": {
          "annotationdefaults": {
           "arrowcolor": "#2a3f5f",
           "arrowhead": 0,
           "arrowwidth": 1
          },
          "autotypenumbers": "strict",
          "coloraxis": {
           "colorbar": {
            "outlinewidth": 0,
            "ticks": ""
           }
          },
          "colorscale": {
           "diverging": [
            [
             0,
             "#8e0152"
            ],
            [
             0.1,
             "#c51b7d"
            ],
            [
             0.2,
             "#de77ae"
            ],
            [
             0.3,
             "#f1b6da"
            ],
            [
             0.4,
             "#fde0ef"
            ],
            [
             0.5,
             "#f7f7f7"
            ],
            [
             0.6,
             "#e6f5d0"
            ],
            [
             0.7,
             "#b8e186"
            ],
            [
             0.8,
             "#7fbc41"
            ],
            [
             0.9,
             "#4d9221"
            ],
            [
             1,
             "#276419"
            ]
           ],
           "sequential": [
            [
             0,
             "#0d0887"
            ],
            [
             0.1111111111111111,
             "#46039f"
            ],
            [
             0.2222222222222222,
             "#7201a8"
            ],
            [
             0.3333333333333333,
             "#9c179e"
            ],
            [
             0.4444444444444444,
             "#bd3786"
            ],
            [
             0.5555555555555556,
             "#d8576b"
            ],
            [
             0.6666666666666666,
             "#ed7953"
            ],
            [
             0.7777777777777778,
             "#fb9f3a"
            ],
            [
             0.8888888888888888,
             "#fdca26"
            ],
            [
             1,
             "#f0f921"
            ]
           ],
           "sequentialminus": [
            [
             0,
             "#0d0887"
            ],
            [
             0.1111111111111111,
             "#46039f"
            ],
            [
             0.2222222222222222,
             "#7201a8"
            ],
            [
             0.3333333333333333,
             "#9c179e"
            ],
            [
             0.4444444444444444,
             "#bd3786"
            ],
            [
             0.5555555555555556,
             "#d8576b"
            ],
            [
             0.6666666666666666,
             "#ed7953"
            ],
            [
             0.7777777777777778,
             "#fb9f3a"
            ],
            [
             0.8888888888888888,
             "#fdca26"
            ],
            [
             1,
             "#f0f921"
            ]
           ]
          },
          "colorway": [
           "#636efa",
           "#EF553B",
           "#00cc96",
           "#ab63fa",
           "#FFA15A",
           "#19d3f3",
           "#FF6692",
           "#B6E880",
           "#FF97FF",
           "#FECB52"
          ],
          "font": {
           "color": "#2a3f5f"
          },
          "geo": {
           "bgcolor": "white",
           "lakecolor": "white",
           "landcolor": "#E5ECF6",
           "showlakes": true,
           "showland": true,
           "subunitcolor": "white"
          },
          "hoverlabel": {
           "align": "left"
          },
          "hovermode": "closest",
          "mapbox": {
           "style": "light"
          },
          "paper_bgcolor": "white",
          "plot_bgcolor": "#E5ECF6",
          "polar": {
           "angularaxis": {
            "gridcolor": "white",
            "linecolor": "white",
            "ticks": ""
           },
           "bgcolor": "#E5ECF6",
           "radialaxis": {
            "gridcolor": "white",
            "linecolor": "white",
            "ticks": ""
           }
          },
          "scene": {
           "xaxis": {
            "backgroundcolor": "#E5ECF6",
            "gridcolor": "white",
            "gridwidth": 2,
            "linecolor": "white",
            "showbackground": true,
            "ticks": "",
            "zerolinecolor": "white"
           },
           "yaxis": {
            "backgroundcolor": "#E5ECF6",
            "gridcolor": "white",
            "gridwidth": 2,
            "linecolor": "white",
            "showbackground": true,
            "ticks": "",
            "zerolinecolor": "white"
           },
           "zaxis": {
            "backgroundcolor": "#E5ECF6",
            "gridcolor": "white",
            "gridwidth": 2,
            "linecolor": "white",
            "showbackground": true,
            "ticks": "",
            "zerolinecolor": "white"
           }
          },
          "shapedefaults": {
           "line": {
            "color": "#2a3f5f"
           }
          },
          "ternary": {
           "aaxis": {
            "gridcolor": "white",
            "linecolor": "white",
            "ticks": ""
           },
           "baxis": {
            "gridcolor": "white",
            "linecolor": "white",
            "ticks": ""
           },
           "bgcolor": "#E5ECF6",
           "caxis": {
            "gridcolor": "white",
            "linecolor": "white",
            "ticks": ""
           }
          },
          "title": {
           "x": 0.05
          },
          "xaxis": {
           "automargin": true,
           "gridcolor": "white",
           "linecolor": "white",
           "ticks": "",
           "title": {
            "standoff": 15
           },
           "zerolinecolor": "white",
           "zerolinewidth": 2
          },
          "yaxis": {
           "automargin": true,
           "gridcolor": "white",
           "linecolor": "white",
           "ticks": "",
           "title": {
            "standoff": 15
           },
           "zerolinecolor": "white",
           "zerolinewidth": 2
          }
         }
        },
        "title": {
         "text": "Index Frequency"
        }
       }
      }
     },
     "metadata": {},
     "output_type": "display_data"
    }
   ],
   "source": [
    "fig = px.pie(data_df, values='frequency', names='index',\n",
    "             title='Index Frequency')\n",
    "fig.update_traces(textposition='inside', textinfo='percent+label')\n",
    "fig.show()"
   ]
  },
  {
   "cell_type": "markdown",
   "metadata": {},
   "source": [
    "Vậy ta có thể thấy có tất cả 93 city index khác nhau,trong đó index 0.920 chiếm tỷ lệ cao nhất và theo sau là 0.624.\n",
    "\n",
    "Tiếp theo ta có thể thêm cột target để quan sát bao nhiêu thí sinh đạt trong các index trên."
   ]
  },
  {
   "cell_type": "code",
   "execution_count": 414,
   "metadata": {},
   "outputs": [
    {
     "data": {
      "text/plain": [
       "city_development_index  target\n",
       "0.920                   0.0       4073\n",
       "0.624                   1.0       1597\n",
       "0.910                   0.0       1354\n",
       "0.926                   0.0       1203\n",
       "0.920                   1.0       1127\n",
       "0.624                   0.0       1105\n",
       "0.897                   0.0        525\n",
       "0.698                   0.0        489\n",
       "0.939                   0.0        451\n",
       "0.855                   0.0        374\n",
       "dtype: int64"
      ]
     },
     "execution_count": 414,
     "metadata": {},
     "output_type": "execute_result"
    }
   ],
   "source": [
    "aug_df_work_1[['city_development_index','target']].value_counts().iloc[:10]"
   ]
  },
  {
   "cell_type": "markdown",
   "metadata": {},
   "source": [
    "Khá bất ngờ, mặc dù thành phố có chỉ số 0.92 lại có hơn 4000 đơn bị từ chối trong khi chỉ số thấp hơn là 0.624 lại cao nhất và có số lượng nhận đơn cao nhất. Theo đó là các chỉ số thành phố khác, 0.92 lần nữa xuất hiện và lần này thể hiện số lượng nhận đơn khá cách biệt so với chỉ số 0.624.\n",
    "\n",
    "Trước mắt ta sẽ lấy cả 4 chỉ số đầu tiên có số lượng áp đảo (>1000) là 0.624,0.92,0.91,0.926 để quan sát."
   ]
  },
  {
   "cell_type": "code",
   "execution_count": 415,
   "metadata": {},
   "outputs": [
    {
     "data": {
      "text/plain": [
       "city_development_index  target\n",
       "0.920                   0.0       4073\n",
       "0.624                   1.0       1597\n",
       "0.910                   0.0       1354\n",
       "0.926                   0.0       1203\n",
       "0.920                   1.0       1127\n",
       "0.624                   0.0       1105\n",
       "0.910                   1.0        179\n",
       "0.926                   1.0        133\n",
       "dtype: int64"
      ]
     },
     "execution_count": 415,
     "metadata": {},
     "output_type": "execute_result"
    }
   ],
   "source": [
    "aug_df_work_1 = aug_df_work_1[aug_df_work_1['city_development_index'].isin([0.624,0.92,0.91,0.926])].reset_index(drop=True)\n",
    "aug_df_work_1[['city_development_index','target']].value_counts()"
   ]
  },
  {
   "cell_type": "code",
   "execution_count": 416,
   "metadata": {},
   "outputs": [
    {
     "data": {
      "text/plain": [
       "city_development_index  target\n",
       "0.920                   0.0       4073\n",
       "0.624                   1.0       1597\n",
       "0.920                   1.0       1127\n",
       "0.624                   0.0       1105\n",
       "dtype: int64"
      ]
     },
     "execution_count": 416,
     "metadata": {},
     "output_type": "execute_result"
    }
   ],
   "source": [
    "aug_df_work_1 = aug_df_work_1[aug_df_work_1['city_development_index'].isin([0.624,0.92])].reset_index(drop=True)\n",
    "aug_df_work_1[['city_development_index','target']].value_counts()"
   ]
  },
  {
   "cell_type": "markdown",
   "metadata": {},
   "source": [
    "Như ta có thể thấy, ngoại trừ 0.624 ra thì các chỉ số còn lại đều có tỷ lệ rớt cao hơn tỷ lệ đậu. Đặc biệt hai chỉ số 0.91 và 0.926 vô cùng thấp (179 với 133). Ta có thể cân nhắc bỏ hai chỉ số này.\n",
    "\n",
    "Vậy ta quyết định chọn ra hai chỉ số còn lại (0.92 và 0.624) có tỷ lệ cao để tìm mối quan hệ giữa các cột với nhau."
   ]
  },
  {
   "cell_type": "markdown",
   "metadata": {},
   "source": [
    "Ta có thể lo ngại về việc lọc như vậy liệu có ảnh hưởng đến thực tế hay không thì câu trả lời là KHÔNG.\n",
    "\n",
    "Bởi vì số lượng của hai index này nói riêng đã chiếm tỷ lệ khá lớn so với toàn bộ dữ liệu, cụ thể là:"
   ]
  },
  {
   "cell_type": "code",
   "execution_count": 417,
   "metadata": {},
   "outputs": [
    {
     "data": {
      "text/plain": [
       "41.24647666771062"
      ]
     },
     "execution_count": 417,
     "metadata": {},
     "output_type": "execute_result"
    }
   ],
   "source": [
    "len(aug_df_work_1) / len(aug_df) * 100"
   ]
  },
  {
   "cell_type": "markdown",
   "metadata": {},
   "source": [
    "Chiếm tới hơn 41% chỉ riêng hai index trên thì ta có thể yên tâm mà lọc được rồi !!"
   ]
  },
  {
   "cell_type": "markdown",
   "metadata": {},
   "source": [
    "Nhiệm vụ tiếp theo của ta là tìm mối quan hệ của hai cột company với kết quả tìm được. Trước mắt ta sẽ xem xét liệu hai cột này có tương quan hay không."
   ]
  },
  {
   "cell_type": "code",
   "execution_count": 418,
   "metadata": {},
   "outputs": [
    {
     "data": {
      "text/html": [
       "<div>\n",
       "<style scoped>\n",
       "    .dataframe tbody tr th:only-of-type {\n",
       "        vertical-align: middle;\n",
       "    }\n",
       "\n",
       "    .dataframe tbody tr th {\n",
       "        vertical-align: top;\n",
       "    }\n",
       "\n",
       "    .dataframe thead th {\n",
       "        text-align: right;\n",
       "    }\n",
       "</style>\n",
       "<table border=\"1\" class=\"dataframe\">\n",
       "  <thead>\n",
       "    <tr style=\"text-align: right;\">\n",
       "      <th></th>\n",
       "      <th>company_size</th>\n",
       "      <th>company_type</th>\n",
       "    </tr>\n",
       "  </thead>\n",
       "  <tbody>\n",
       "    <tr>\n",
       "      <th>0</th>\n",
       "      <td>NaN</td>\n",
       "      <td>NaN</td>\n",
       "    </tr>\n",
       "    <tr>\n",
       "      <th>1</th>\n",
       "      <td>NaN</td>\n",
       "      <td>NaN</td>\n",
       "    </tr>\n",
       "    <tr>\n",
       "      <th>2</th>\n",
       "      <td>74.0</td>\n",
       "      <td>Funded Startup</td>\n",
       "    </tr>\n",
       "    <tr>\n",
       "      <th>3</th>\n",
       "      <td>74.0</td>\n",
       "      <td>Pvt Ltd</td>\n",
       "    </tr>\n",
       "    <tr>\n",
       "      <th>4</th>\n",
       "      <td>10000.0</td>\n",
       "      <td>Pvt Ltd</td>\n",
       "    </tr>\n",
       "    <tr>\n",
       "      <th>...</th>\n",
       "      <td>...</td>\n",
       "      <td>...</td>\n",
       "    </tr>\n",
       "    <tr>\n",
       "      <th>7897</th>\n",
       "      <td>74.0</td>\n",
       "      <td>Pvt Ltd</td>\n",
       "    </tr>\n",
       "    <tr>\n",
       "      <th>7898</th>\n",
       "      <td>300.0</td>\n",
       "      <td>Public Sector</td>\n",
       "    </tr>\n",
       "    <tr>\n",
       "      <th>7899</th>\n",
       "      <td>30.0</td>\n",
       "      <td>Funded Startup</td>\n",
       "    </tr>\n",
       "    <tr>\n",
       "      <th>7900</th>\n",
       "      <td>NaN</td>\n",
       "      <td>NaN</td>\n",
       "    </tr>\n",
       "    <tr>\n",
       "      <th>7901</th>\n",
       "      <td>74.0</td>\n",
       "      <td>Pvt Ltd</td>\n",
       "    </tr>\n",
       "  </tbody>\n",
       "</table>\n",
       "<p>7902 rows × 2 columns</p>\n",
       "</div>"
      ],
      "text/plain": [
       "      company_size    company_type\n",
       "0              NaN             NaN\n",
       "1              NaN             NaN\n",
       "2             74.0  Funded Startup\n",
       "3             74.0         Pvt Ltd\n",
       "4          10000.0         Pvt Ltd\n",
       "...            ...             ...\n",
       "7897          74.0         Pvt Ltd\n",
       "7898         300.0   Public Sector\n",
       "7899          30.0  Funded Startup\n",
       "7900           NaN             NaN\n",
       "7901          74.0         Pvt Ltd\n",
       "\n",
       "[7902 rows x 2 columns]"
      ]
     },
     "execution_count": 418,
     "metadata": {},
     "output_type": "execute_result"
    }
   ],
   "source": [
    "aug_df_work_1_company = aug_df_work_1[['company_size','company_type']]\n",
    "aug_df_work_1_company"
   ]
  },
  {
   "cell_type": "markdown",
   "metadata": {},
   "source": [
    "Hmmm...Hình như nếu thí sinh không điền company_size thì cột company_type còn lại cũng sẽ không có luôn thì phải, cùng check xem tỉ lệ giá trị thiếu của cả hai như thế nào."
   ]
  },
  {
   "cell_type": "code",
   "execution_count": 419,
   "metadata": {},
   "outputs": [
    {
     "data": {
      "text/plain": [
       "company_size  company_type\n",
       "NaN           NaN             2122\n",
       "10000.0       Pvt Ltd          975\n",
       "74.0          Pvt Ltd          777\n",
       "300.0         Pvt Ltd          766\n",
       "3000.0        Pvt Ltd          417\n",
       "dtype: int64"
      ]
     },
     "execution_count": 419,
     "metadata": {},
     "output_type": "execute_result"
    }
   ],
   "source": [
    "aug_df_work_1_company.value_counts(dropna=False).head()"
   ]
  },
  {
   "cell_type": "markdown",
   "metadata": {},
   "source": [
    "Nhận thấy cả hai cột này đều có mối quan hệ khá đặc biệt. Nếu một cột NaN thì tỉ lệ cột còn lại NaN rất cao với hơn 2000 lần xuất hiện.\n",
    "\n",
    "Còn lại thì ở cột company_type, Pvt Ltd xuất hiện rất nhiều và ở top đầu.\n",
    "\n",
    "Tiếp theo ta thêm cột target để tìm hiểu sâu hơn về các cột này."
   ]
  },
  {
   "cell_type": "code",
   "execution_count": 420,
   "metadata": {},
   "outputs": [
    {
     "data": {
      "text/plain": [
       "company_size  company_type  target\n",
       "NaN           NaN           1.0       1179\n",
       "                            0.0        943\n",
       "10000.0       Pvt Ltd       0.0        721\n",
       "300.0         Pvt Ltd       0.0        582\n",
       "74.0          Pvt Ltd       0.0        573\n",
       "3000.0        Pvt Ltd       0.0        325\n",
       "10000.0       Pvt Ltd       1.0        254\n",
       "74.0          Pvt Ltd       1.0        204\n",
       "750.0         Pvt Ltd       0.0        187\n",
       "300.0         Pvt Ltd       1.0        184\n",
       "dtype: int64"
      ]
     },
     "execution_count": 420,
     "metadata": {},
     "output_type": "execute_result"
    }
   ],
   "source": [
    "aug_df_work_1_company_target = aug_df_work_1[['company_size','company_type','target']]\n",
    "\n",
    "aug_data_company_target = aug_df_work_1_company_target.value_counts(dropna=False)\n",
    "aug_data_company_target.iloc[0:10]"
   ]
  },
  {
   "cell_type": "markdown",
   "metadata": {},
   "source": [
    "Số liệu khá thú vị khi dẫn đầu ở cả hai lựa chọn target nằm ở giá trị thiếu cả hai cột company này.\n",
    "\n",
    "Trong khi đó, mãi đến khi company_size 10k+ và company_type là Pvt Ltd thì mới có số lượng đậu là 254 đơn.\n",
    "\n",
    "Nếu quan sát kĩ bảng số liệu trên, ta có thể nhận định, nếu như cả hai cột có dữ liệu thì số lượng đơn rớt đều nhiều hơn đơn đậu."
   ]
  },
  {
   "cell_type": "markdown",
   "metadata": {},
   "source": [
    "Vậy giờ ta có hai giả thuyết dựa trên những gì thu nhập được:\n",
    "- Chỉ số thành phố có liên quan đến kết quả đậu/rớt và gói gọn trong hai index chính : 0.92 và 0.642\n",
    "- Hai cột company_size và company_type có ít tác động tới kết quả đậu/rớt."
   ]
  },
  {
   "cell_type": "markdown",
   "metadata": {},
   "source": [
    "Tuy ta có các dữ kiện khá thuyết phục nhưng không thể từ chỉ số thành phố mà nhận định được khả năng người đó có khả năng đậu hay không được nhưng trước mắt ta có thể khẳng định những người ở hai thành phố có chỉ số này tỷ lệ đậu khá cao."
   ]
  }
 ],
 "metadata": {
  "interpreter": {
   "hash": "7d02b7426e692fbbd84b68649eb3859898ba146ffc7adab2b0543bea598da7ad"
  },
  "kernelspec": {
   "display_name": "Python 3.9.5 64-bit",
   "language": "python",
   "name": "python3"
  },
  "language_info": {
   "codemirror_mode": {
    "name": "ipython",
    "version": 3
   },
   "file_extension": ".py",
   "mimetype": "text/x-python",
   "name": "python",
   "nbconvert_exporter": "python",
   "pygments_lexer": "ipython3",
   "version": "3.8.8"
  },
  "orig_nbformat": 4
 },
 "nbformat": 4,
 "nbformat_minor": 2
}
